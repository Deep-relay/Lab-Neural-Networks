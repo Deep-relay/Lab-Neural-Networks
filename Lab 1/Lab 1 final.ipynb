{
 "cells": [
  {
   "cell_type": "markdown",
   "id": "41dc8632",
   "metadata": {},
   "source": [
    "## init"
   ]
  }
 ],
 "metadata": {
  "language_info": {
   "name": "python"
  }
 },
 "nbformat": 4,
 "nbformat_minor": 5
}
