{
 "cells": [
  {
   "cell_type": "code",
   "execution_count": 79,
   "id": "feb6864b",
   "metadata": {},
   "outputs": [],
   "source": [
    "import torch\n",
    "from torch import nn\n",
    "from torch.optim.lr_scheduler import ReduceLROnPlateau\n",
    "from torch.utils.data import DataLoader\n",
    "from torchvision import datasets\n",
    "from torchvision.transforms import ToTensor\n",
    "import matplotlib.pyplot as plt\n"
   ]
  },
  {
   "cell_type": "code",
   "execution_count": 80,
   "id": "5deb9bb6",
   "metadata": {},
   "outputs": [],
   "source": [
    "# # Download training data from open datasets.\n",
    "# training_data = datasets.FashionMNIST(\n",
    "#     root=\"data\",\n",
    "#     train=True,\n",
    "#     download=True,\n",
    "#     transform=ToTensor(),\n",
    "# )\n",
    "\n",
    "# # Download test data from open datasets.\n",
    "# test_data = datasets.FashionMNIST(\n",
    "#     root=\"data\",\n",
    "#     train=False,\n",
    "#     download=True,\n",
    "#     transform=ToTensor(),\n",
    "# )\n",
    "\n",
    "from torchvision import transforms\n",
    "\n",
    "# Define a chain of transformations\n",
    "train_transforms = transforms.Compose([\n",
    "    # transforms.RandomHorizontalFlip(), # Randomly flips images horizontally\n",
    "    # transforms.RandomRotation(10),     # Randomly rotates images by up to 10 degrees\n",
    "    # transforms.RandomAffine(degrees=0, translate=(0.1, 0.1)),\n",
    "    transforms.ToTensor()\n",
    "])\n",
    "\n",
    "# Apply these transforms ONLY to the training data\n",
    "training_data = datasets.FashionMNIST(\n",
    "    root=\"data\",\n",
    "    train=True,\n",
    "    download=True,\n",
    "    transform=train_transforms, # Use the new transforms here\n",
    ")\n",
    "\n",
    "# Test data should not be augmented\n",
    "test_data = datasets.FashionMNIST(\n",
    "    root=\"data\",\n",
    "    train=False,\n",
    "    download=True,\n",
    "    transform=ToTensor(),\n",
    ")"
   ]
  },
  {
   "cell_type": "code",
   "execution_count": 81,
   "id": "1df966dc",
   "metadata": {},
   "outputs": [
    {
     "name": "stdout",
     "output_type": "stream",
     "text": [
      "Shape of X [N, C, H, W]: torch.Size([64, 1, 28, 28])\n",
      "Shape of y: torch.Size([64]) torch.int64\n",
      "Shape of X [N, C, H, W]: torch.Size([64, 1, 28, 28])\n",
      "Shape of y: torch.Size([64]) torch.int64\n"
     ]
    }
   ],
   "source": [
    "batch_size = 64\n",
    "\n",
    "# Create data loaders.\n",
    "train_dataloader = DataLoader(training_data, batch_size=batch_size)\n",
    "test_dataloader = DataLoader(test_data, batch_size=batch_size)\n",
    "\n",
    "for X, y in train_dataloader:\n",
    "    print(f\"Shape of X [N, C, H, W]: {X.shape}\")\n",
    "    print(f\"Shape of y: {y.shape} {y.dtype}\")\n",
    "    break\n",
    "\n",
    "for X, y in test_dataloader:\n",
    "    print(f\"Shape of X [N, C, H, W]: {X.shape}\")\n",
    "    print(f\"Shape of y: {y.shape} {y.dtype}\")\n",
    "    break"
   ]
  },
  {
   "cell_type": "code",
   "execution_count": 82,
   "id": "7486b476",
   "metadata": {},
   "outputs": [
    {
     "name": "stdout",
     "output_type": "stream",
     "text": [
      "torch.Size([60000, 28, 28])\n",
      "torch.Size([10000, 28, 28])\n"
     ]
    }
   ],
   "source": [
    "print(training_data.data.shape)\n",
    "print(test_data.data.shape)"
   ]
  },
  {
   "cell_type": "code",
   "execution_count": 83,
   "id": "8fe86f81",
   "metadata": {},
   "outputs": [
    {
     "data": {
      "image/png": "[encoded data removed]",
      "text/plain": [
       "<Figure size 800x800 with 9 Axes>"
      ]
     },
     "metadata": {},
     "output_type": "display_data"
    }
   ],
   "source": [
    "\n",
    "labels_map = {\n",
    "    0: \"T-Shirt\",\n",
    "    1: \"Trouser\",\n",
    "    2: \"Pullover\",\n",
    "    3: \"Dress\",\n",
    "    4: \"Coat\",\n",
    "    5: \"Sandal\",\n",
    "    6: \"Shirt\",\n",
    "    7: \"Sneaker\",\n",
    "    8: \"Bag\",\n",
    "    9: \"Ankle Boot\",\n",
    "}\n",
    "figure = plt.figure(figsize=(8, 8))\n",
    "cols, rows = 3, 3\n",
    "for i in range(1, cols * rows + 1):\n",
    "    sample_idx = torch.randint(len(training_data), size=(1,)).item()\n",
    "    img, label = training_data[sample_idx]\n",
    "    figure.add_subplot(rows, cols, i)\n",
    "    plt.title(labels_map[label])\n",
    "    plt.axis(\"off\")\n",
    "    plt.imshow(img.squeeze(), cmap=\"gray\")\n",
    "plt.show()"
   ]
  },
  {
   "cell_type": "code",
   "execution_count": 84,
   "id": "f946641a",
   "metadata": {},
   "outputs": [
    {
     "name": "stdout",
     "output_type": "stream",
     "text": [
      "Using cuda device\n",
      "NeuralNetwork(\n",
      "  (flatten): Flatten(start_dim=1, end_dim=-1)\n",
      "  (linear_relu_stack): Sequential(\n",
      "    (0): Linear(in_features=784, out_features=512, bias=True)\n",
      "    (1): ReLU()\n",
      "    (2): Linear(in_features=512, out_features=512, bias=True)\n",
      "    (3): BatchNorm1d(512, eps=1e-05, momentum=0.1, affine=True, track_running_stats=True)\n",
      "    (4): ReLU()\n",
      "    (5): Linear(in_features=512, out_features=512, bias=True)\n",
      "    (6): ReLU()\n",
      "    (7): Dropout(p=0.5, inplace=False)\n",
      "    (8): Linear(in_features=512, out_features=512, bias=True)\n",
      "    (9): BatchNorm1d(512, eps=1e-05, momentum=0.1, affine=True, track_running_stats=True)\n",
      "    (10): ReLU()\n",
      "    (11): Linear(in_features=512, out_features=10, bias=True)\n",
      "  )\n",
      ")\n"
     ]
    }
   ],
   "source": [
    "# Get cpu, gpu or mps device for training.\n",
    "device = (\n",
    "    \"cuda\"\n",
    "    if torch.cuda.is_available()\n",
    "    else \"mps\"\n",
    "    if torch.backends.mps.is_available()\n",
    "    else \"cpu\"\n",
    ")\n",
    "print(f\"Using {device} device\")\n",
    "\n",
    "# Define model\n",
    "class NeuralNetwork(nn.Module):\n",
    "    def __init__(self):\n",
    "        super().__init__()\n",
    "        self.flatten = nn.Flatten() #flatten the input into single vector\n",
    "        self.linear_relu_stack = nn.Sequential(\n",
    "            nn.Linear(28*28, 512),nn.ReLU(),\n",
    "            nn.Linear(512, 512), nn.BatchNorm1d(512),nn.ReLU(),\n",
    "            nn.Linear(512, 512), nn.ReLU(),nn.Dropout(0.5),\n",
    "            nn.Linear(512, 512), nn.BatchNorm1d(512),nn.ReLU(),\n",
    "            nn.Linear(512, 10)\n",
    "        )\n",
    "        # self.linear_relu_stack = nn.Sequential(\n",
    "        # nn.Linear(28*28, 768), nn.ReLU(),\n",
    "        # nn.Linear(768, 768), nn.BatchNorm1d(768), nn.ReLU(),\n",
    "        # nn.Dropout(0.5), # Added a dropout layer here\n",
    "        # nn.Linear(768, 512), nn.ReLU(),\n",
    "        # nn.Dropout(0.5),\n",
    "        # nn.Linear(512, 512), nn.BatchNorm1d(512), nn.ReLU(),\n",
    "        # nn.Linear(512, 10)\n",
    "        # )\n",
    "\n",
    "    def forward(self, x):\n",
    "        x = self.flatten(x)\n",
    "        logits = self.linear_relu_stack(x)\n",
    "        return logits\n",
    "\n",
    "model = NeuralNetwork().to(device)\n",
    "print(model)"
   ]
  },
  {
   "cell_type": "code",
   "execution_count": 85,
   "id": "27f01992",
   "metadata": {},
   "outputs": [],
   "source": [
    "loss_fn = nn.CrossEntropyLoss()\n",
    "# optimizer = torch.optim.SGD(model.parameters(), lr=10e-4, weight_decay=1e-5)\n",
    "# optimizer = torch.optim.Adam(model.parameters(), lr=10e-6, weight_decay=1e-4)\n",
    "optimizer = torch.optim.AdamW(model.parameters(), lr=3*10e-6, weight_decay=1e-3)\n",
    "# scheduler = ReduceLROnPlateau(optimizer, 'min', factor=0.1, patience=2)"
   ]
  },
  {
   "cell_type": "code",
   "execution_count": 86,
   "id": "ce7ded56",
   "metadata": {},
   "outputs": [],
   "source": [
    "def train(dataloader, model, loss_fn, optimizer):\n",
    "    size = len(dataloader.dataset)\n",
    "    model.train()\n",
    "    for batch, (X, y) in enumerate(dataloader):\n",
    "        X, y = X.to(device), y.to(device)\n",
    "\n",
    "        # Compute prediction error\n",
    "        pred = model(X)\n",
    "        loss = loss_fn(pred, y)\n",
    "\n",
    "        # Backpropagation\n",
    "        loss.backward()\n",
    "        optimizer.step()\n",
    "        optimizer.zero_grad()\n",
    "\n",
    "        if batch % 100 == 0:\n",
    "            loss, current = loss.item(), (batch + 1) * len(X)\n",
    "            print(f\"loss: {loss:>7f}  [{current:>5d}/{size:>5d}]\")"
   ]
  },
  {
   "cell_type": "code",
   "execution_count": 87,
   "id": "85116882",
   "metadata": {},
   "outputs": [],
   "source": [
    "# def test(dataloader, model, loss_fn):\n",
    "#     size = len(dataloader.dataset)\n",
    "#     num_batches = len(dataloader)\n",
    "#     model.eval()\n",
    "#     test_loss, correct = 0, 0\n",
    "#     with torch.no_grad():\n",
    "#         for X, y in dataloader:\n",
    "#             X, y = X.to(device), y.to(device)\n",
    "#             pred = model(X)\n",
    "#             test_loss += loss_fn(pred, y).item()\n",
    "#             correct += (pred.argmax(1) == y).type(torch.float).sum().item()\n",
    "#     test_loss /= num_batches\n",
    "#     correct /= size\n",
    "#     print(f\"Test Error: \\n Accuracy: {(100*correct):>0.1f}%, Avg loss: {test_loss:>8f} \\n\")\n",
    "\n",
    "def test(dataloader, model, loss_fn):\n",
    "    size = len(dataloader.dataset)\n",
    "    num_batches = len(dataloader)\n",
    "    model.eval()\n",
    "    test_loss, correct = 0, 0\n",
    "    with torch.no_grad():\n",
    "        for X, y in dataloader:\n",
    "            X, y = X.to(device), y.to(device)\n",
    "            pred = model(X)\n",
    "            test_loss += loss_fn(pred, y).item()\n",
    "            correct += (pred.argmax(1) == y).type(torch.float).sum().item()\n",
    "    test_loss /= num_batches\n",
    "    correct /= size\n",
    "    print(f\"Test Error: \\n Accuracy: {(100*correct):>0.1f}%, Avg loss: {test_loss:>8f} \\n\")\n",
    "    \n",
    "    # return test_loss"
   ]
  },
  {
   "cell_type": "code",
   "execution_count": 88,
   "id": "ae058eff",
   "metadata": {},
   "outputs": [
    {
     "name": "stdout",
     "output_type": "stream",
     "text": [
      "Epoch 1\n",
      "-------------------------------\n",
      "loss: 2.386792  [   64/60000]\n",
      "loss: 1.170115  [ 6464/60000]\n",
      "loss: 0.654556  [12864/60000]\n",
      "loss: 0.822566  [19264/60000]\n",
      "loss: 0.672612  [25664/60000]\n",
      "loss: 0.556570  [32064/60000]\n",
      "loss: 0.547695  [38464/60000]\n",
      "loss: 0.614082  [44864/60000]\n",
      "loss: 0.598647  [51264/60000]\n",
      "loss: 0.516355  [57664/60000]\n",
      "Test Error: \n",
      " Accuracy: 84.2%, Avg loss: 0.449426 \n",
      "\n",
      "Epoch 2\n",
      "-------------------------------\n",
      "loss: 0.396711  [   64/60000]\n",
      "loss: 0.472864  [ 6464/60000]\n",
      "loss: 0.320603  [12864/60000]\n",
      "loss: 0.516631  [19264/60000]\n",
      "loss: 0.443433  [25664/60000]\n",
      "loss: 0.443697  [32064/60000]\n",
      "loss: 0.320072  [38464/60000]\n",
      "loss: 0.435417  [44864/60000]\n",
      "loss: 0.442794  [51264/60000]\n",
      "loss: 0.441025  [57664/60000]\n",
      "Test Error: \n",
      " Accuracy: 86.2%, Avg loss: 0.384517 \n",
      "\n",
      "Epoch 3\n",
      "-------------------------------\n",
      "loss: 0.366901  [   64/60000]\n",
      "loss: 0.400926  [ 6464/60000]\n",
      "loss: 0.264574  [12864/60000]\n",
      "loss: 0.385164  [19264/60000]\n",
      "loss: 0.306128  [25664/60000]\n",
      "loss: 0.364015  [32064/60000]\n",
      "loss: 0.289231  [38464/60000]\n",
      "loss: 0.461327  [44864/60000]\n",
      "loss: 0.419289  [51264/60000]\n",
      "loss: 0.419680  [57664/60000]\n",
      "Test Error: \n",
      " Accuracy: 87.2%, Avg loss: 0.354822 \n",
      "\n",
      "Epoch 4\n",
      "-------------------------------\n",
      "loss: 0.273991  [   64/60000]\n",
      "loss: 0.365724  [ 6464/60000]\n",
      "loss: 0.221247  [12864/60000]\n",
      "loss: 0.330201  [19264/60000]\n",
      "loss: 0.282752  [25664/60000]\n",
      "loss: 0.310158  [32064/60000]\n",
      "loss: 0.269151  [38464/60000]\n",
      "loss: 0.361696  [44864/60000]\n",
      "loss: 0.352173  [51264/60000]\n",
      "loss: 0.380806  [57664/60000]\n",
      "Test Error: \n",
      " Accuracy: 87.6%, Avg loss: 0.340914 \n",
      "\n",
      "Epoch 5\n",
      "-------------------------------\n",
      "loss: 0.245737  [   64/60000]\n",
      "loss: 0.321342  [ 6464/60000]\n",
      "loss: 0.235450  [12864/60000]\n",
      "loss: 0.305443  [19264/60000]\n",
      "loss: 0.268240  [25664/60000]\n",
      "loss: 0.324008  [32064/60000]\n",
      "loss: 0.225843  [38464/60000]\n",
      "loss: 0.255477  [44864/60000]\n",
      "loss: 0.369251  [51264/60000]\n",
      "loss: 0.296297  [57664/60000]\n",
      "Test Error: \n",
      " Accuracy: 87.9%, Avg loss: 0.331490 \n",
      "\n",
      "Epoch 6\n",
      "-------------------------------\n",
      "loss: 0.206107  [   64/60000]\n",
      "loss: 0.283984  [ 6464/60000]\n",
      "loss: 0.164375  [12864/60000]\n",
      "loss: 0.270932  [19264/60000]\n",
      "loss: 0.194127  [25664/60000]\n",
      "loss: 0.272178  [32064/60000]\n",
      "loss: 0.223358  [38464/60000]\n",
      "loss: 0.271110  [44864/60000]\n",
      "loss: 0.314367  [51264/60000]\n",
      "loss: 0.304829  [57664/60000]\n",
      "Test Error: \n",
      " Accuracy: 88.2%, Avg loss: 0.326746 \n",
      "\n",
      "Epoch 7\n",
      "-------------------------------\n",
      "loss: 0.189806  [   64/60000]\n",
      "loss: 0.318898  [ 6464/60000]\n",
      "loss: 0.186243  [12864/60000]\n",
      "loss: 0.264315  [19264/60000]\n",
      "loss: 0.219101  [25664/60000]\n",
      "loss: 0.326408  [32064/60000]\n",
      "loss: 0.246360  [38464/60000]\n",
      "loss: 0.300772  [44864/60000]\n",
      "loss: 0.277088  [51264/60000]\n",
      "loss: 0.295016  [57664/60000]\n",
      "Test Error: \n",
      " Accuracy: 88.5%, Avg loss: 0.321533 \n",
      "\n",
      "Epoch 8\n",
      "-------------------------------\n",
      "loss: 0.161214  [   64/60000]\n",
      "loss: 0.287424  [ 6464/60000]\n",
      "loss: 0.154286  [12864/60000]\n",
      "loss: 0.275147  [19264/60000]\n",
      "loss: 0.217222  [25664/60000]\n",
      "loss: 0.293396  [32064/60000]\n",
      "loss: 0.208969  [38464/60000]\n",
      "loss: 0.235595  [44864/60000]\n",
      "loss: 0.298874  [51264/60000]\n",
      "loss: 0.275019  [57664/60000]\n",
      "Test Error: \n",
      " Accuracy: 88.4%, Avg loss: 0.319108 \n",
      "\n",
      "Epoch 9\n",
      "-------------------------------\n",
      "loss: 0.153031  [   64/60000]\n",
      "loss: 0.252236  [ 6464/60000]\n",
      "loss: 0.210528  [12864/60000]\n",
      "loss: 0.178531  [19264/60000]\n",
      "loss: 0.207211  [25664/60000]\n",
      "loss: 0.266881  [32064/60000]\n",
      "loss: 0.220828  [38464/60000]\n",
      "loss: 0.285753  [44864/60000]\n",
      "loss: 0.296797  [51264/60000]\n",
      "loss: 0.245925  [57664/60000]\n",
      "Test Error: \n",
      " Accuracy: 88.9%, Avg loss: 0.313932 \n",
      "\n",
      "Epoch 10\n",
      "-------------------------------\n",
      "loss: 0.161866  [   64/60000]\n",
      "loss: 0.178612  [ 6464/60000]\n",
      "loss: 0.157513  [12864/60000]\n",
      "loss: 0.249448  [19264/60000]\n",
      "loss: 0.253674  [25664/60000]\n",
      "loss: 0.257373  [32064/60000]\n",
      "loss: 0.160167  [38464/60000]\n",
      "loss: 0.209258  [44864/60000]\n",
      "loss: 0.232702  [51264/60000]\n",
      "loss: 0.197105  [57664/60000]\n",
      "Test Error: \n",
      " Accuracy: 88.7%, Avg loss: 0.317110 \n",
      "\n",
      "Done!\n"
     ]
    }
   ],
   "source": [
    "epochs = 10\n",
    "for t in range(epochs):\n",
    "    print(f\"Epoch {t+1}\\n-------------------------------\")\n",
    "    train(train_dataloader, model, loss_fn, optimizer)\n",
    "    test(test_dataloader, model, loss_fn)\n",
    "    # scheduler.step(test_loss)\n",
    "print(\"Done!\")"
   ]
  },
  {
   "cell_type": "code",
   "execution_count": 89,
   "id": "90fd675c",
   "metadata": {},
   "outputs": [
    {
     "name": "stdout",
     "output_type": "stream",
     "text": [
      "Saved PyTorch Model State to model.pth\n"
     ]
    }
   ],
   "source": [
    "torch.save(model.state_dict(), \"model.pth\")\n",
    "print(\"Saved PyTorch Model State to model.pth\")"
   ]
  },
  {
   "cell_type": "code",
   "execution_count": 90,
   "id": "4c34cf83",
   "metadata": {},
   "outputs": [
    {
     "data": {
      "text/plain": [
       "<All keys matched successfully>"
      ]
     },
     "execution_count": 90,
     "metadata": {},
     "output_type": "execute_result"
    }
   ],
   "source": [
    "model = NeuralNetwork().to(device)\n",
    "model.load_state_dict(torch.load(\"model.pth\"))"
   ]
  },
  {
   "cell_type": "code",
   "execution_count": 91,
   "id": "884d0631",
   "metadata": {},
   "outputs": [
    {
     "name": "stdout",
     "output_type": "stream",
     "text": [
      "Predicted: \"Coat\", Actual: \"Coat\"\n"
     ]
    }
   ],
   "source": [
    "classes = [\n",
    "    \"T-shirt/top\",\n",
    "    \"Trouser\",\n",
    "    \"Pullover\",\n",
    "    \"Dress\",\n",
    "    \"Coat\",\n",
    "    \"Sandal\",\n",
    "    \"Shirt\",\n",
    "    \"Sneaker\",\n",
    "    \"Bag\",\n",
    "    \"Ankle boot\",\n",
    "]\n",
    "\n",
    "model.eval()\n",
    "x, y = test_data[10][0], test_data[10][1]\n",
    "with torch.no_grad():\n",
    "    x = x.to(device)\n",
    "    pred = model(x)\n",
    "    predicted, actual = classes[pred[0].argmax(0)], classes[y]\n",
    "    print(f'Predicted: \"{predicted}\", Actual: \"{actual}\"')"
   ]
  },
  {
   "cell_type": "code",
   "execution_count": 92,
   "id": "1b021c42",
   "metadata": {},
   "outputs": [
    {
     "name": "stdout",
     "output_type": "stream",
     "text": [
      "Size of the final model: 4.58 MB\n"
     ]
    }
   ],
   "source": [
    "import os\n",
    "model_size = os.path.getsize(\"model.pth\") / (1024 * 1024)\n",
    "print(f\"Size of the final model: {model_size:.2f} MB\")"
   ]
  }
 ],
 "metadata": {
  "kernelspec": {
   "display_name": "(Lab) Neural Networks",
   "language": "python",
   "name": "python3"
  },
  "language_info": {
   "codemirror_mode": {
    "name": "ipython",
    "version": 3
   },
   "file_extension": ".py",
   "mimetype": "text/x-python",
   "name": "python",
   "nbconvert_exporter": "python",
   "pygments_lexer": "ipython3",
   "version": "3.12.2"
  }
 },
 "nbformat": 4,
 "nbformat_minor": 5
}
