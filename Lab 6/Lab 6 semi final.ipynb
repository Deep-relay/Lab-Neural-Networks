{
 "cells": [
  {
   "cell_type": "markdown",
   "metadata": {},
   "source": [
    "# Building Two Layer Neural Network: Step by Step\n",
    "\n",
    "\n",
    "**After this assignment you will be able to:**\n",
    "- Use non-linear units like ReLU to improve your model\n",
    "- Build a deeper neural network (with more than 1 hidden layer)\n",
    "- Implement an easy-to-use neural network class\n",
    "- These functions will be used in next Notebook to develop Deep NN.\n",
    "\n",
    "**Notation**:\n",
    "- Superscript $[l]$ denotes a quantity associated with the $l^{th}$ layer. \n",
    "    - Example: $a^{[L]}$ is the $L^{th}$ layer activation. $W^{[L]}$ and $b^{[L]}$ are the $L^{th}$ layer parameters.\n",
    "- Superscript $(i)$ denotes a quantity associated with the $i^{th}$ example. \n",
    "    - Example: $x^{(i)}$ is the $i^{th}$ training example.\n",
    "- Lowerscript $i$ denotes the $i^{th}$ entry of a vector.\n",
    "    - Example: $a^{[l]}_i$ denotes the $i^{th}$ entry of the $l^{th}$ layer's activations).\n",
    "\n",
    "Let's get started!"
   ]
  },
  {
   "cell_type": "markdown",
   "metadata": {},
   "source": [
    "## 1 - Packages\n",
    "\n",
    "Let's first import all the packages that you will need during this assignment. \n",
    "- [numpy](www.numpy.org) is the main package for scientific computing with Python.\n",
    "- [matplotlib](http://matplotlib.org) is a library to plot graphs in Python.\n",
    "- np.random.seed(1) is used to keep all the random function calls consistent. It will help us grade your work. Please don't change the seed. "
   ]
  },
  {
   "cell_type": "code",
   "execution_count": 34,
   "metadata": {},
   "outputs": [
    {
     "name": "stdout",
     "output_type": "stream",
     "text": [
      "The autoreload extension is already loaded. To reload it, use:\n",
      "  %reload_ext autoreload\n"
     ]
    }
   ],
   "source": [
    "import numpy as np\n",
    "import h5py\n",
    "import matplotlib.pyplot as plt\n",
    "\n",
    "\n",
    "%matplotlib inline\n",
    "plt.rcParams['figure.figsize'] = (5.0, 4.0) # set default size of plots\n",
    "plt.rcParams['image.interpolation'] = 'nearest'\n",
    "plt.rcParams['image.cmap'] = 'gray'\n",
    "\n",
    "%load_ext autoreload\n",
    "%autoreload 2\n",
    "\n",
    "np.random.seed(1)"
   ]
  },
  {
   "cell_type": "markdown",
   "metadata": {},
   "source": [
    "##  2- Some Important Functions that will  be used later"
   ]
  },
  {
   "cell_type": "code",
   "execution_count": 35,
   "metadata": {},
   "outputs": [],
   "source": [
    "def sigmoid(Z):\n",
    "    \"\"\"\n",
    "    Implements the sigmoid activation in numpy\n",
    "    \n",
    "    Arguments:\n",
    "    Z -- numpy array of any shape\n",
    "    \n",
    "    Returns:\n",
    "    A -- output of sigmoid(z), same shape as Z\n",
    "    cache -- returns Z as well, useful during backpropagation\n",
    "    \"\"\"\n",
    "    \n",
    "    A = 1/(1+np.exp(-Z))\n",
    "    cache = Z\n",
    "    \n",
    "    return A, cache"
   ]
  },
  {
   "cell_type": "code",
   "execution_count": 36,
   "metadata": {},
   "outputs": [],
   "source": [
    "def relu(Z):\n",
    "    \"\"\"\n",
    "    Implement the RELU function.\n",
    "\n",
    "    Arguments:\n",
    "    Z -- Output of the linear layer, of any shape\n",
    "\n",
    "    Returns:\n",
    "    A -- Post-activation parameter, of the same shape as Z\n",
    "    cache -- a python dictionary containing \"A\" ; stored for computing the backward pass efficiently\n",
    "    \"\"\"\n",
    "    \n",
    "    A = np.maximum(0,Z)\n",
    "    \n",
    "    assert(A.shape == Z.shape)\n",
    "    \n",
    "    cache = Z \n",
    "    return A, cache"
   ]
  },
  {
   "cell_type": "code",
   "execution_count": 37,
   "metadata": {},
   "outputs": [],
   "source": [
    "def relu_dropout(Z, rate=0.5):\n",
    "    \"\"\"\n",
    "    Implement the RELU function.\n",
    "\n",
    "    Arguments:\n",
    "    Z -- Output of the linear layer, of any shape\n",
    "\n",
    "    Returns:\n",
    "    A -- Post-activation parameter, of the same shape as Z\n",
    "    cache -- a python dictionary containing \"A\" ; stored for computing the backward pass efficiently\n",
    "    \"\"\"\n",
    "    \n",
    "    A = np.maximum(0,Z)\n",
    "    D = np.random.rand(A.shape[0], A.shape[1]) < (1-rate)\n",
    "    A = A * D / (1-rate)                     \n",
    "    \n",
    "    assert(A.shape == Z.shape)\n",
    "\n",
    "    cache = Z \n",
    "    return A, cache, (np.count_nonzero(D))/D.size"
   ]
  },
  {
   "cell_type": "code",
   "execution_count": 38,
   "metadata": {},
   "outputs": [],
   "source": [
    "def relu_backward(dA, cache):\n",
    "    \"\"\"\n",
    "    Implement the backward propagation for a single RELU unit.\n",
    "\n",
    "    Arguments:\n",
    "    dA -- post-activation gradient, of any shape\n",
    "    cache -- 'Z' where we store for computing backward propagation efficiently\n",
    "\n",
    "    Returns:\n",
    "    dZ -- Gradient of the cost with respect to Z\n",
    "    \"\"\"\n",
    "    \n",
    "    Z = cache\n",
    "    dZ = np.array(dA, copy=True) # just converting dz to a correct object.\n",
    "    \n",
    "    # When z <= 0, you should set dz to 0 as well. \n",
    "    dZ[Z <= 0] = 0\n",
    "    \n",
    "    assert (dZ.shape == Z.shape)\n",
    "    \n",
    "    return dZ"
   ]
  },
  {
   "cell_type": "code",
   "execution_count": 39,
   "metadata": {},
   "outputs": [],
   "source": [
    "def sigmoid_backward(dA, cache):\n",
    "    \"\"\"\n",
    "    Implement the backward propagation for a single SIGMOID unit.\n",
    "\n",
    "    Arguments:\n",
    "    dA -- post-activation gradient, of any shape\n",
    "    cache -- 'Z' where we store for computing backward propagation efficiently\n",
    "\n",
    "    Returns:\n",
    "    dZ -- Gradient of the cost with respect to Z\n",
    "    \"\"\"\n",
    "    \n",
    "    Z = cache\n",
    "    \n",
    "    s = 1/(1+np.exp(-Z))\n",
    "    dZ = dA * s * (1-s)\n",
    "    \n",
    "    assert (dZ.shape == Z.shape)\n",
    "    \n",
    "    return dZ"
   ]
  },
  {
   "cell_type": "markdown",
   "metadata": {},
   "source": [
    "## 3 - Outline \n",
    "\n",
    "To build your neural network, you need several \"helper functions\". Each small helper function you will implement will have detailed instructions that will walk you through the necessary steps. Here is an outline of this notebook, you will:\n",
    "\n",
    "- Initialize the parameters for a two-layer network and for an $L$-layer neural network.\n",
    "- Implement the forward propagation module (shown in purple in the figure below).\n",
    "     - Complete the LINEAR part of a layer's forward propagation step (resulting in $Z^{[l]}$).\n",
    "     - We give you the ACTIVATION function (relu/sigmoid).\n",
    "     - Combine the previous two steps into a new [LINEAR->ACTIVATION] forward function.\n",
    "     - Stack the [LINEAR->RELU] forward function L-1 time (for layers 1 through L-1) and add a [LINEAR->SIGMOID] at the end (for the final layer $L$). This gives you a new L_model_forward function.\n",
    "- Compute the loss.\n",
    "- Implement the backward propagation module (denoted in red in the figure below).\n",
    "    - Complete the LINEAR part of a layer's backward propagation step.\n",
    "    - We give you the gradient of the ACTIVATE function (relu_backward/sigmoid_backward) \n",
    "    - Combine the previous two steps into a new [LINEAR->ACTIVATION] backward function.\n",
    "    - Stack [LINEAR->RELU] backward L-1 times and add [LINEAR->SIGMOID] backward in a new L_model_backward function\n",
    "- Finally update the parameters.\n",
    "\n",
    "\n",
    "**Note** that for every forward function, there is a corresponding backward function. That is why at every step of your forward module you will be storing some values in a cache. The cached values are useful for computing gradients. In the backpropagation module you will then use the cache to calculate the gradients. This notebook will show you exactly how to carry out each of these steps. "
   ]
  },
  {
   "cell_type": "markdown",
   "metadata": {},
   "source": [
    "## 4 - Initialization\n",
    "\n",
    "We will write two helper functions that will initialize the parameters for your model. The first function will be used to initialize parameters for a two layer model. The second one will generalize this initialization process to $L$ layers.\n",
    "\n",
    "###  2-layer Neural Network\n",
    "\n",
    "**Instructions**:\n",
    "- The model's structure is: *LINEAR -> RELU -> LINEAR -> SIGMOID*. \n",
    "- Use random initialization for the weight matrices. Use `np.random.randn(shape)*0.01` with the correct shape.\n",
    "- Use zero initialization for the biases. Use `np.zeros(shape)`."
   ]
  },
  {
   "cell_type": "code",
   "execution_count": 40,
   "metadata": {},
   "outputs": [],
   "source": [
    "\n",
    "def initialize_parameters(n_x, n_h, n_y):\n",
    "       \n",
    "    np.random.seed(1)\n",
    "    \n",
    "    W1 = np.random.randn(n_h,n_x)*0.01\n",
    "    b1 = np.zeros((n_h,1))\n",
    "    W2 = np.random.randn(n_y,n_h)*0.01\n",
    "    b2 = np.zeros((n_y,1))\n",
    "    parameters = {\"W1\": W1,\n",
    "                  \"b1\": b1,\n",
    "                  \"W2\": W2,\n",
    "                  \"b2\": b2}\n",
    "    \n",
    "    return parameters    "
   ]
  },
  {
   "cell_type": "code",
   "execution_count": 41,
   "metadata": {},
   "outputs": [
    {
     "name": "stdout",
     "output_type": "stream",
     "text": [
      "W1 = [[ 0.01624345 -0.00611756 -0.00528172]\n",
      " [-0.01072969  0.00865408 -0.02301539]]\n",
      "b1 = [[0.]\n",
      " [0.]]\n",
      "W2 = [[ 0.01744812 -0.00761207]]\n",
      "b2 = [[0.]]\n"
     ]
    }
   ],
   "source": [
    "parameters = initialize_parameters(3,2,1)\n",
    "print(\"W1 = \" + str(parameters[\"W1\"]))\n",
    "print(\"b1 = \" + str(parameters[\"b1\"]))\n",
    "print(\"W2 = \" + str(parameters[\"W2\"]))\n",
    "print(\"b2 = \" + str(parameters[\"b2\"]))"
   ]
  },
  {
   "cell_type": "markdown",
   "metadata": {},
   "source": [
    "### L-layer Neural Network\n",
    "\n",
    "The initialization for a deeper L-layer neural network is more complicated because there are many more weight matrices and bias vectors. When completing the `initialize_parameters_deep`, you should make sure that your dimensions match between each layer. Recall that $n^{[l]}$ is the number of units in layer $l$. Thus for example if the size of our input $X$ is $(12288, 209)$ (with $m=209$ examples) then:\n",
    "\n",
    "\n",
    "Remember that when we compute $W X + b$ in python, it carries out broadcasting. For example, if: \n",
    "\n",
    "$$ W = \\begin{bmatrix}\n",
    "    j  & k  & l\\\\\n",
    "    m  & n & o \\\\\n",
    "    p  & q & r \n",
    "\\end{bmatrix}\\;\\;\\; X = \\begin{bmatrix}\n",
    "    a  & b  & c\\\\\n",
    "    d  & e & f \\\\\n",
    "    g  & h & i \n",
    "\\end{bmatrix} \\;\\;\\; b =\\begin{bmatrix}\n",
    "    s  \\\\\n",
    "    t  \\\\\n",
    "    u\n",
    "\\end{bmatrix}\\tag{2}$$\n",
    "\n",
    "Then $WX + b$ will be:\n",
    "\n",
    "$$ WX + b = \\begin{bmatrix}\n",
    "    (ja + kd + lg) + s  & (jb + ke + lh) + s  & (jc + kf + li)+ s\\\\\n",
    "    (ma + nd + og) + t & (mb + ne + oh) + t & (mc + nf + oi) + t\\\\\n",
    "    (pa + qd + rg) + u & (pb + qe + rh) + u & (pc + qf + ri)+ u\n",
    "\\end{bmatrix}\\tag{3}  $$"
   ]
  },
  {
   "cell_type": "markdown",
   "metadata": {},
   "source": [
    "**Instructions**:\n",
    "- The model's structure is *[LINEAR -> RELU] $ \\times$ (L-1) -> LINEAR -> SIGMOID*. I.e., it has $L-1$ layers using a ReLU activation function followed by an output layer with a sigmoid activation function.\n",
    "- Use random initialization for the weight matrices. Use `np.random.randn(shape) * 0.01`.\n",
    "- Use zeros initialization for the biases. Use `np.zeros(shape)`.\n",
    "- We will store $n^{[l]}$, the number of units in different layers, in a variable `layer_dims`. \n",
    "\n",
    "For example, the `layer_dims` for the \"Planar Data classification model\" in this notebook would have been [2,4,1]: There were two inputs, one hidden layer with 4 hidden units, and an output layer with 1 output unit. This means `W1`'s shape was (4,2), `b1` was (4,1), `W2` was (1,4) and `b2` was (1,1). Now you will generalize this to $L$ layers! \n",
    "- Here is the implementation for $L=1$ (one layer neural network). It should inspire you to implement the general case (L-layer neural network).\n",
    "```python\n",
    "    if L == 1:\n",
    "        parameters[\"W\" + str(L)] = np.random.randn(layer_dims[1], layer_dims[0]) * 0.01\n",
    "        parameters[\"b\" + str(L)] = np.zeros((layer_dims[1], 1))\n",
    "```"
   ]
  },
  {
   "cell_type": "code",
   "execution_count": 42,
   "metadata": {},
   "outputs": [],
   "source": [
    "\n",
    "def initialize_parameters_deep(layer_dims):\n",
    "       \n",
    "    np.random.seed(3)\n",
    "    parameters = {}\n",
    "    L = len(layer_dims)            # number of layers in the network\n",
    "\n",
    "    for l in range(1, L):\n",
    "        parameters['W' + str(l)] = np.random.randn(layer_dims[l], layer_dims[l-1]) * 0.01\n",
    "        parameters['b' + str(l)] = np.zeros((layer_dims[l], 1))\n",
    "        \n",
    "    return parameters"
   ]
  },
  {
   "cell_type": "code",
   "execution_count": 43,
   "metadata": {},
   "outputs": [
    {
     "name": "stdout",
     "output_type": "stream",
     "text": [
      "W1 = [[ 0.01788628  0.0043651   0.00096497 -0.01863493 -0.00277388]\n",
      " [-0.00354759 -0.00082741 -0.00627001 -0.00043818 -0.00477218]\n",
      " [-0.01313865  0.00884622  0.00881318  0.01709573  0.00050034]\n",
      " [-0.00404677 -0.0054536  -0.01546477  0.00982367 -0.01101068]]\n",
      "b1 = [[0.]\n",
      " [0.]\n",
      " [0.]\n",
      " [0.]]\n",
      "W2 = [[-0.01185047 -0.0020565   0.01486148  0.00236716]\n",
      " [-0.01023785 -0.00712993  0.00625245 -0.00160513]\n",
      " [-0.00768836 -0.00230031  0.00745056  0.01976111]]\n",
      "b2 = [[0.]\n",
      " [0.]\n",
      " [0.]]\n"
     ]
    }
   ],
   "source": [
    "parameters = initialize_parameters_deep([5,4,3])\n",
    "print(\"W1 = \" + str(parameters[\"W1\"]))\n",
    "print(\"b1 = \" + str(parameters[\"b1\"]))\n",
    "print(\"W2 = \" + str(parameters[\"W2\"]))\n",
    "print(\"b2 = \" + str(parameters[\"b2\"]))"
   ]
  },
  {
   "cell_type": "markdown",
   "metadata": {},
   "source": [
    "## 5 - Forward propagation module\n",
    "\n",
    "### Linear Forward \n",
    "Now that you have initialized your parameters, you will do the forward propagation module. You will start by implementing some basic functions that you will use later when implementing the model. You will complete three functions in this order:\n",
    "\n",
    "- LINEAR\n",
    "- LINEAR -> ACTIVATION where ACTIVATION will be either ReLU or Sigmoid. \n",
    "- [LINEAR -> RELU] $\\times$ (L-1) -> LINEAR -> SIGMOID (whole model)\n",
    "\n",
    "The linear forward module (vectorized over all the examples) computes the following equations:\n",
    "\n",
    "$$Z^{[l]} = W^{[l]}A^{[l-1]} +b^{[l]}\\tag{4}$$\n",
    "\n",
    "where $A^{[0]} = X$. \n",
    "\n",
    "\n",
    "**Reminder**:\n",
    "The mathematical representation of this unit is $Z^{[l]} = W^{[l]}A^{[l-1]} +b^{[l]}$. You may also find `np.dot()` useful. If your dimensions don't match, printing `W.shape` may help."
   ]
  },
  {
   "cell_type": "code",
   "execution_count": 44,
   "metadata": {},
   "outputs": [],
   "source": [
    "\n",
    "def linear_forward(A, W, b):\n",
    "    \n",
    "    Z = np.dot(W,A) +b\n",
    "    \n",
    "    cache = (A, W, b)\n",
    "    \n",
    "    return Z, cache"
   ]
  },
  {
   "cell_type": "code",
   "execution_count": 45,
   "metadata": {},
   "outputs": [
    {
     "name": "stdout",
     "output_type": "stream",
     "text": [
      "Z = [[-4.19172461  5.02492059]\n",
      " [ 3.51232374 -0.9849295 ]]\n"
     ]
    }
   ],
   "source": [
    "# A, W, b = linear_forward_test_case()\n",
    "\n",
    "linear_forward_test_case = lambda : (np.array([[1.62434536, -0.61175641],\n",
    "                                                [-0.52817175, -1.07296862],\n",
    "                                                [0.86540763, -2.3015387 ]]),\n",
    " np.array([[-1.07296862,  0.86540763, -2.3015387 ],\n",
    "          [ 1.74481176, -0.7612069 ,  0.3190391 ]]), \n",
    "np.array([[0.]]))\n",
    "\n",
    "A, W, b = linear_forward_test_case()\n",
    "\n",
    "Z, linear_cache = linear_forward(A, W, b)\n",
    "print(\"Z = \" + str(Z))"
   ]
  },
  {
   "cell_type": "markdown",
   "metadata": {},
   "source": [
    "### 4.2 - Linear-Activation Forward\n",
    "\n",
    "In this notebook, you will use two activation functions:\n",
    "\n",
    "- **Sigmoid**: $\\sigma(Z) = \\sigma(W A + b) = \\frac{1}{ 1 + e^{-(W A + b)}}$. We have provided you with the `sigmoid` function. This function returns **two** items: the activation value \"`a`\" and a \"`cache`\" that contains \"`Z`\" (it's what we will feed in to the corresponding backward function). To use it you could just call: \n",
    "``` python\n",
    "A, activation_cache = sigmoid(Z)\n",
    "```\n",
    "\n",
    "- **ReLU**: The mathematical formula for ReLu is $A = RELU(Z) = max(0, Z)$. We have provided you with the `relu` function. This function returns **two** items: the activation value \"`A`\" and a \"`cache`\" that contains \"`Z`\" (it's what we will feed in to the corresponding backward function). To use it you could just call:\n",
    "``` python\n",
    "A, activation_cache = relu(Z)\n",
    "```"
   ]
  },
  {
   "cell_type": "markdown",
   "metadata": {},
   "source": [
    "For more convenience, you are going to group two functions (Linear and Activation) into one function (LINEAR->ACTIVATION). Hence, you will implement a function that does the LINEAR forward step followed by an ACTIVATION forward step.\n",
    "Exercise: Implement the forward propagation of the LINEAR->ACTIVATION layer. Mathematical relation is: \n",
    "𝐴\n",
    "[𝑙]\n",
    "=𝑔(\n",
    "𝑍\n",
    "[𝑙]\n",
    ")=𝑔(\n",
    "𝑊\n",
    "[𝑙]\n",
    "𝐴\n",
    "[𝑙−1]\n",
    "+\n",
    "𝑏\n",
    "[𝑙]\n",
    ")\n",
    "A[l]=g(Z[l])=g(W[l]A[l−1]+b[l])\n",
    "where the activation \"g\" can be sigmoid() or relu(). Use linear_forward() and the correct activation function."
   ]
  },
  {
   "cell_type": "code",
   "execution_count": 46,
   "metadata": {},
   "outputs": [],
   "source": [
    "\n",
    "def linear_activation_forward_BN(A_prev, W, b, activation):\n",
    "        \n",
    "    if activation == \"sigmoid\":\n",
    "        # Inputs: \"A_prev, W, b\". Outputs: \"A, activation_cache\".\n",
    "        \n",
    "        Z, linear_cache = linear_forward(A_prev, W, b)\n",
    "        A, activation_cache = sigmoid(Z)\n",
    "        non_zero = None\n",
    "       \n",
    "    \n",
    "    elif activation == \"relu\":\n",
    "        # Inputs: \"A_prev, W, b\". Outputs: \"A, activation_cache\".\n",
    "        Z, linear_cache = linear_forward(A_prev, W, b)\n",
    "        A, activation_cache = relu(Z)\n",
    "        # A, activation_cache, non_zero = relu_dropout(Z)       \n",
    "    \n",
    "    cache = (linear_cache, activation_cache)\n",
    "\n",
    "    return A, cache"
   ]
  },
  {
   "cell_type": "code",
   "execution_count": 47,
   "metadata": {},
   "outputs": [],
   "source": [
    "\n",
    "def linear_activation_forward(A_prev, W, b, activation, rate=0.3):\n",
    "        \n",
    "    if activation == \"sigmoid\":\n",
    "        # Inputs: \"A_prev, W, b\". Outputs: \"A, activation_cache\".\n",
    "        \n",
    "        Z, linear_cache = linear_forward(A_prev, W, b)\n",
    "        A, activation_cache = sigmoid(Z)\n",
    "        non_zero = None\n",
    "       \n",
    "    \n",
    "    elif activation == \"relu\":\n",
    "        # Inputs: \"A_prev, W, b\". Outputs: \"A, activation_cache\".\n",
    "        Z, linear_cache = linear_forward(A_prev, W, b)\n",
    "        # A, activation_cache = relu(Z)\n",
    "        A, activation_cache, non_zero = relu_dropout(Z, rate=rate)       \n",
    "    \n",
    "    cache = (linear_cache, activation_cache)\n",
    "\n",
    "    return A, cache, non_zero"
   ]
  },
  {
   "cell_type": "markdown",
   "metadata": {},
   "source": [
    "### d) L-Layer Model \n",
    "\n",
    "For even more convenience when implementing the $L$-layer Neural Net, you will need a function that replicates the previous one (`linear_activation_forward` with RELU) $L-1$ times, then follows that with one `linear_activation_forward` with SIGMOID.\n",
    "\n",
    "Implementing the forward propagation of the above model.\n",
    "\n",
    "**Instruction**: In the code below, the variable `AL` will denote $A^{[L]} = \\sigma(Z^{[L]}) = \\sigma(W^{[L]} A^{[L-1]} + b^{[L]})$. (This is sometimes also called `Yhat`, i.e., this is $\\hat{Y}$.) \n",
    "\n",
    "**Tips**:\n",
    "- Use the functions you had previously written \n",
    "- Use a for loop to replicate [LINEAR->RELU] (L-1) times\n",
    "- Don't forget to keep track of the caches in the \"caches\" list. To add a new value `c` to a `list`, you can use `list.append(c)`."
   ]
  },
  {
   "cell_type": "code",
   "execution_count": 48,
   "metadata": {},
   "outputs": [],
   "source": [
    "\n",
    "def L_model_forward(X, parameters, rate):\n",
    "    caches = []\n",
    "    A = X\n",
    "    L = len(parameters) // 2                  # number of layers in the neural network\n",
    "    total_non_zero = []\n",
    "    \n",
    "    # Implement [LINEAR -> RELU]*(L-1). Add \"cache\" to the \"caches\" list.\n",
    "    for l in range(1, L):\n",
    "        A_prev = A \n",
    "        \n",
    "        A, cache, non_zero = linear_activation_forward(A_prev, parameters[\"W\"+ str(l)], parameters[\"b\"+ str(l)], activation = \"relu\", rate=rate)\n",
    "        total_non_zero.append(non_zero)\n",
    "        caches.append(cache)\n",
    "    \n",
    "    # Implement LINEAR -> SIGMOID. Add \"cache\" to the \"caches\" list.\n",
    "    AL, cache, non_zero = linear_activation_forward(A, parameters[\"W\"+ str(L)], parameters[\"b\"+ str(L)], activation = \"sigmoid\")\n",
    "    caches.append(cache)\n",
    "    \n",
    "           \n",
    "    return AL, caches, total_non_zero"
   ]
  },
  {
   "cell_type": "code",
   "execution_count": 49,
   "metadata": {},
   "outputs": [],
   "source": [
    "\n",
    "def L_model_forward_BN(X, parameters):\n",
    "    caches = []\n",
    "    A = X\n",
    "    L = len(parameters) // 2                  # number of layers in the neural network\n",
    "    total_non_zero = []\n",
    "    \n",
    "    # Implement [LINEAR -> RELU]*(L-1). Add \"cache\" to the \"caches\" list.\n",
    "    for l in range(1, L):\n",
    "        A_prev = A \n",
    "        \n",
    "        A, cache = linear_activation_forward_BN(A_prev, parameters[\"W\"+ str(l)], parameters[\"b\"+ str(l)], activation = \"relu\")\n",
    "        mean=np.mean(A)\n",
    "        variance=np.var(A)\n",
    "        A = (A - mean)/np.sqrt(variance + 1e-8)\n",
    "        caches.append(cache)\n",
    "    \n",
    "    # Implement LINEAR -> SIGMOID. Add \"cache\" to the \"caches\" list.\n",
    "    AL, cache = linear_activation_forward_BN(A, parameters[\"W\"+ str(L)], parameters[\"b\"+ str(L)], activation = \"sigmoid\")\n",
    "    caches.append(cache)\n",
    "    \n",
    "           \n",
    "    return AL, caches"
   ]
  },
  {
   "cell_type": "markdown",
   "metadata": {},
   "source": [
    "## 6 - Cost function\n",
    "\n",
    "Now you will implement forward and backward propagation. You need to compute the cost, because you want to check if your model is actually learning.\n",
    "\n",
    "**Exercise**: Compute the cross-entropy cost $J$, using the following formula: $$-\\frac{1}{m} \\sum\\limits_{i = 1}^{m} (y^{(i)}\\log\\left(a^{[L] (i)}\\right) + (1-y^{(i)})\\log\\left(1- a^{[L](i)}\\right)) \\tag{7}$$"
   ]
  },
  {
   "cell_type": "code",
   "execution_count": 50,
   "metadata": {},
   "outputs": [],
   "source": [
    "\n",
    "def compute_cost(AL, Y):\n",
    "    \n",
    "    m = Y.shape[1]\n",
    "\n",
    "    # Compute loss from aL and y.\n",
    "    cost = -np.sum((np.multiply(Y,np.log(AL)) + np.multiply((1-Y),np.log(1-AL))))/m\n",
    "    \n",
    "    cost = np.squeeze(cost)      # To make sure your cost's shape is what we expect (e.g. this turns [[17]] into 17).\n",
    "   \n",
    "    return cost"
   ]
  },
  {
   "cell_type": "code",
   "execution_count": 51,
   "metadata": {},
   "outputs": [
    {
     "name": "stdout",
     "output_type": "stream",
     "text": [
      "cost = inf\n"
     ]
    },
    {
     "name": "stderr",
     "output_type": "stream",
     "text": [
      "C:\\Users\\pande\\AppData\\Local\\Temp\\ipykernel_23956\\2292183636.py:6: RuntimeWarning: divide by zero encountered in log\n",
      "  cost = -np.sum((np.multiply(Y,np.log(AL)) + np.multiply((1-Y),np.log(1-AL))))/m\n"
     ]
    }
   ],
   "source": [
    "compute_cost_test_case = lambda : (np.array([[0.8, 0.9, 0.4]]), np.array([[1, 1, 0]]))\n",
    "\n",
    "Y, AL = compute_cost_test_case()\n",
    "\n",
    "print(\"cost = \" + str(compute_cost(AL, Y)))"
   ]
  },
  {
   "cell_type": "markdown",
   "metadata": {},
   "source": [
    "## 7 - Backward propagation module\n",
    "\n",
    "Just like with forward propagation, you will implement helper functions for backpropagation. Remember that back propagation is used to calculate the gradient of the loss function with respect to the parameters. \n",
    "\n",
    "**Reminder**: \n",
    "\n",
    "<!-- \n",
    "For those of you who are expert in calculus (you don't need to be to do this assignment), the chain rule of calculus can be used to derive the derivative of the loss $\\mathcal{L}$ with respect to $z^{[1]}$ in a 2-layer network as follows:\n",
    "\n",
    "$$\\frac{d \\mathcal{L}(a^{[2]},y)}{{dz^{[1]}}} = \\frac{d\\mathcal{L}(a^{[2]},y)}{{da^{[2]}}}\\frac{{da^{[2]}}}{{dz^{[2]}}}\\frac{{dz^{[2]}}}{{da^{[1]}}}\\frac{{da^{[1]}}}{{dz^{[1]}}} \\tag{8} $$\n",
    "\n",
    "In order to calculate the gradient $dW^{[1]} = \\frac{\\partial L}{\\partial W^{[1]}}$, you use the previous chain rule and you do $dW^{[1]} = dz^{[1]} \\times \\frac{\\partial z^{[1]} }{\\partial W^{[1]}}$. During the backpropagation, at each step you multiply your current gradient by the gradient corresponding to the specific layer to get the gradient you wanted.\n",
    "\n",
    "Equivalently, in order to calculate the gradient $db^{[1]} = \\frac{\\partial L}{\\partial b^{[1]}}$, you use the previous chain rule and you do $db^{[1]} = dz^{[1]} \\times \\frac{\\partial z^{[1]} }{\\partial b^{[1]}}$.\n",
    "\n",
    "This is why we talk about **backpropagation**.\n",
    "!-->\n",
    "\n",
    "Now, similar to forward propagation, you are going to build the backward propagation in three steps:\n",
    "- LINEAR backward\n",
    "- LINEAR -> ACTIVATION backward where ACTIVATION computes the derivative of either the ReLU or sigmoid activation\n",
    "- [LINEAR -> RELU] $\\times$ (L-1) -> LINEAR -> SIGMOID backward (whole model)"
   ]
  },
  {
   "cell_type": "markdown",
   "metadata": {},
   "source": [
    "### 7.1 - Linear backward\n",
    "\n",
    "For layer $l$, the linear part is: $Z^{[l]} = W^{[l]} A^{[l-1]} + b^{[l]}$ (followed by an activation).\n",
    "\n",
    "Suppose you have already calculated the derivative $dZ^{[l]} = \\frac{\\partial \\mathcal{L} }{\\partial Z^{[l]}}$. You want to get $(dW^{[l]}, db^{[l]}, dA^{[l-1]})$.\n",
    "\n",
    "The three outputs $(dW^{[l]}, db^{[l]}, dA^{[l-1]})$ are computed using the input $dZ^{[l]}$.Here are the formulas you need:\n",
    "$$ dW^{[l]} = \\frac{\\partial \\mathcal{J} }{\\partial W^{[l]}} = \\frac{1}{m} dZ^{[l]} A^{[l-1] T} \\tag{8}$$\n",
    "$$ db^{[l]} = \\frac{\\partial \\mathcal{J} }{\\partial b^{[l]}} = \\frac{1}{m} \\sum_{i = 1}^{m} dZ^{[l](i)}\\tag{9}$$\n",
    "$$ dA^{[l-1]} = \\frac{\\partial \\mathcal{L} }{\\partial A^{[l-1]}} = W^{[l] T} dZ^{[l]} \\tag{10}$$\n"
   ]
  },
  {
   "cell_type": "code",
   "execution_count": 52,
   "metadata": {},
   "outputs": [],
   "source": [
    "\n",
    "def linear_backward(dZ, cache):\n",
    "    \n",
    "    A_prev, W, b = cache\n",
    "    m = A_prev.shape[1]\n",
    "\n",
    "    dW = np.dot(dZ,A_prev.T)/m\n",
    "    db = np.sum(dZ, axis=1, keepdims=True)/m\n",
    "    dA_prev = np.dot(W.T,dZ)\n",
    "    \n",
    "    \n",
    "    return dA_prev, dW, db"
   ]
  },
  {
   "cell_type": "code",
   "execution_count": 53,
   "metadata": {},
   "outputs": [
    {
     "name": "stdout",
     "output_type": "stream",
     "text": [
      "dA_prev = [[ 0.65372115 -0.62776879]\n",
      " [-0.58497194 -0.79719925]]\n",
      "dW = [[0.658343   1.40685096]\n",
      " [0.12182079 1.00619747]]\n",
      "db = [[ 0.50629448]\n",
      " [-0.80057018]]\n"
     ]
    }
   ],
   "source": [
    "# Set up some test inputs\n",
    "linear_backward_test_case = lambda : (\n",
    "    np.array([[1.62434536, -0.61175641],   # dZ shape (2,2)\n",
    "              [-0.52817175, -1.07296862]]),\n",
    "    (\n",
    "        np.array([[ 0.61167629, -0.52817175],   # A_prev shape (2,2)\n",
    "                  [ 0.86540763, -2.3015387 ]]),\n",
    "        np.array([[ 0.5, -0.1],                 # W shape (2,2)\n",
    "                  [ 0.3,  0.8]]),\n",
    "        np.array([[0.], [0.]])                  # b shape (2,1)\n",
    "    )\n",
    ")\n",
    "dZ, linear_cache = linear_backward_test_case()\n",
    "\n",
    "dA_prev, dW, db = linear_backward(dZ, linear_cache)\n",
    "print (\"dA_prev = \"+ str(dA_prev))\n",
    "print (\"dW = \" + str(dW))\n",
    "print (\"db = \" + str(db))"
   ]
  },
  {
   "cell_type": "markdown",
   "metadata": {},
   "source": [
    "### 7.2 - Linear-Activation backward\n",
    "\n",
    "Next, you will create a function that merges the two helper functions: **`linear_backward`** and the backward step for the activation **`linear_activation_backward`**. \n",
    "\n",
    "To help you implement `linear_activation_backward`, we provided two backward functions:\n",
    "- **`sigmoid_backward`**: Implements the backward propagation for SIGMOID unit. You can call it as follows:\n",
    "\n",
    "```python\n",
    "dZ = sigmoid_backward(dA, activation_cache)\n",
    "```\n",
    "\n",
    "- **`relu_backward`**: Implements the backward propagation for RELU unit. You can call it as follows:\n",
    "\n",
    "```python\n",
    "dZ = relu_backward(dA, activation_cache)\n",
    "```\n",
    "\n",
    "If $g(.)$ is the activation function, \n",
    "`sigmoid_backward` and `relu_backward` compute $$dZ^{[l]} = dA^{[l]} * g'(Z^{[l]}) \\tag{11}$$.  \n",
    "\n",
    "Implementing the backpropagation for the *LINEAR->ACTIVATION* layer."
   ]
  },
  {
   "cell_type": "code",
   "execution_count": 54,
   "metadata": {},
   "outputs": [],
   "source": [
    "\n",
    "def linear_activation_backward(dA, cache, activation):\n",
    "    \n",
    "    linear_cache, activation_cache = cache\n",
    "    \n",
    "    if activation == \"relu\":\n",
    "        dZ = relu_backward(dA, cache[1])\n",
    "        dA_prev, dW, db = linear_backward(dZ, cache[0])\n",
    "        \n",
    "    elif activation == \"sigmoid\":\n",
    "        dZ = sigmoid_backward(dA, cache[1])\n",
    "        dA_prev, dW, db = linear_backward(dZ, cache[0])\n",
    "    \n",
    "    return dA_prev, dW, db"
   ]
  },
  {
   "cell_type": "code",
   "execution_count": 55,
   "metadata": {},
   "outputs": [
    {
     "name": "stdout",
     "output_type": "stream",
     "text": [
      "sigmoid:\n",
      "dA_prev = [[-0.65263153 -0.16608188]\n",
      " [ 0.44202598  0.01262783]]\n",
      "dW = [[0.16085678 0.34460816]\n",
      " [0.0096598  0.15960434]]\n",
      "db = [[ 0.1226699 ]\n",
      " [-0.15917806]]\n",
      "\n",
      "relu:\n",
      "dA_prev = [[-2.66443188  0.        ]\n",
      " [ 1.80776885  0.        ]]\n",
      "dW = [[ 0.49678677  0.70286043]\n",
      " [-0.16153507 -0.22854193]]\n",
      "db = [[ 0.81217268]\n",
      " [-0.26408588]]\n"
     ]
    }
   ],
   "source": [
    "linear_activation_backward_test_case = lambda : (\n",
    "    np.array([[1.62434536, -0.61175641],   # dA\n",
    "              [-0.52817175, -1.07296862]]),\n",
    "    (\n",
    "        (   # linear_cache\n",
    "            np.array([[ 0.61167629, -0.52817175],   # A_prev\n",
    "                      [ 0.86540763, -2.3015387 ]]),\n",
    "            np.array([[ -1.07296862, 0.86540763],   # W\n",
    "                      [  1.74481176, -0.7612069 ]]),\n",
    "            np.array([[0.], [0.]])                  # b\n",
    "        ),\n",
    "        np.array([[0.3190391, -0.24937038],          # activation_cache = Z\n",
    "                  [0.21220659, -1.23005814]])\n",
    "    )\n",
    ")\n",
    "\n",
    "dAL, linear_activation_cache = linear_activation_backward_test_case()\n",
    "\n",
    "dA_prev, dW, db = linear_activation_backward(dAL, linear_activation_cache, activation = \"sigmoid\")\n",
    "print (\"sigmoid:\")\n",
    "print (\"dA_prev = \"+ str(dA_prev))\n",
    "print (\"dW = \" + str(dW))\n",
    "print (\"db = \" + str(db) + \"\\n\")\n",
    "\n",
    "dA_prev, dW, db = linear_activation_backward(dAL, linear_activation_cache, activation = \"relu\")\n",
    "print (\"relu:\")\n",
    "print (\"dA_prev = \"+ str(dA_prev))\n",
    "print (\"dW = \" + str(dW))\n",
    "print (\"db = \" + str(db))"
   ]
  },
  {
   "cell_type": "markdown",
   "metadata": {},
   "source": [
    "### 7.3 - L-Model Backward \n",
    "\n",
    "Now you will implement the backward function for the whole network. Recall that when you implemented the `L_model_forward` function, at each iteration, you stored a cache which contains (X,W,b, and z). In the back propagation module, you will use those variables to compute the gradients. Therefore, in the `L_model_backward` function, you will iterate through all the hidden layers backward, starting from layer $L$. On each step, you will use the cached values for layer $l$ to backpropagate through layer $l$. Figure 5 below shows the backward pass. \n",
    "\n",
    "\n",
    "\n",
    "** Initializing backpropagation**:\n",
    "To backpropagate through this network, we know that the output is, \n",
    "$A^{[L]} = \\sigma(Z^{[L]})$. Your code thus needs to compute `dAL` $= \\frac{\\partial \\mathcal{L}}{\\partial A^{[L]}}$.\n",
    "To do so, use this formula (derived using calculus which you don't need in-depth knowledge of):\n",
    "```python\n",
    "dAL = - (np.divide(Y, AL) - np.divide(1 - Y, 1 - AL)) # derivative of cost with respect to AL\n",
    "```\n",
    "\n",
    "You can then use this post-activation gradient `dAL` to keep going backward. As seen in Figure 5, you can now feed in `dAL` into the LINEAR->SIGMOID backward function you implemented (which will use the cached values stored by the L_model_forward function). After that, you will have to use a `for` loop to iterate through all the other layers using the LINEAR->RELU backward function. You should store each dA, dW, and db in the grads dictionary. To do so, use this formula : \n",
    "\n",
    "$$grads[\"dW\" + str(l)] = dW^{[l]}\\tag{15} $$\n",
    "\n",
    "For example, for $l=3$ this would store $dW^{[l]}$ in `grads[\"dW3\"]`.\n",
    "\n",
    " Implement backpropagation for the *[LINEAR->RELU] $\\times$ (L-1) -> LINEAR -> SIGMOID* model."
   ]
  },
  {
   "cell_type": "code",
   "execution_count": 56,
   "metadata": {},
   "outputs": [],
   "source": [
    "\n",
    "def L_model_backward(AL, Y, caches):\n",
    "    \n",
    "    grads = {}\n",
    "    L = len(caches) # the number of layers\n",
    "    m = AL.shape[1]\n",
    "    Y = Y.reshape(AL.shape) # after this line, Y is the same shape as AL\n",
    "    \n",
    "    # Initializing the backpropagation\n",
    "    dAL = - (np.divide(Y, AL) - np.divide(1 - Y, 1 - AL))\n",
    "    \n",
    "    # Lth layer (SIGMOID -> LINEAR) gradients. Inputs: \"dAL, current_cache\". Outputs: \"grads[\"dAL-1\"], grads[\"dWL\"], grads[\"dbL\"]\n",
    "    current_cache = caches[L-1]\n",
    "    grads[\"dA\" + str(L-1)], grads[\"dW\" + str(L)], grads[\"db\" + str(L)] = linear_activation_backward(dAL, current_cache, activation = \"sigmoid\")\n",
    "    \n",
    "    # Loop from l=L-2 to l=0\n",
    "    for l in reversed(range(L-1)):\n",
    "        # lth layer: (RELU -> LINEAR) gradients.\n",
    "        # Inputs: \"grads[\"dA\" + str(l + 1)], current_cache\". Outputs: \"grads[\"dA\" + str(l)] , grads[\"dW\" + str(l + 1)] , grads[\"db\" + str(l + 1)] \n",
    "        current_cache = caches[l]\n",
    "        dA_prev_temp, dW_temp, db_temp = linear_activation_backward(grads[\"dA\" + str(l+1)], current_cache, activation = \"relu\")\n",
    "        grads[\"dA\" + str(l)] = dA_prev_temp\n",
    "        grads[\"dW\" + str(l + 1)] = dW_temp\n",
    "        grads[\"db\" + str(l + 1)] = db_temp\n",
    "\n",
    "    return grads"
   ]
  },
  {
   "cell_type": "code",
   "execution_count": 57,
   "metadata": {},
   "outputs": [],
   "source": [
    "def L_model_backward_test_case():\n",
    "    np.random.seed(3)\n",
    "    AL = np.random.randn(1, 4)  # 1 output unit, 4 examples\n",
    "    Y = np.array([[1, 0, 1, 1]])  # Example true labels\n",
    "\n",
    "    # Cache for layer 1 (linear -> ReLU)\n",
    "    A_prev1 = np.random.randn(3, 4)  # 3 units in hidden layer, 4 examples\n",
    "    W1 = np.random.randn(3, 2)       # Weights from input (2 features) to hidden (3 units)\n",
    "    b1 = np.random.randn(3, 1)\n",
    "    Z1 = np.random.randn(3, 4)\n",
    "    linear_cache1 = (A_prev1, W1, b1)\n",
    "    activation_cache1 = Z1\n",
    "    cache1 = (linear_cache1, activation_cache1)\n",
    "\n",
    "    # Cache for layer 2 (linear -> Sigmoid)\n",
    "    A_prev2 = A_prev1                # Output from previous layer\n",
    "    W2 = np.random.randn(1, 3)       # Weights from hidden (3 units) to output (1 unit)\n",
    "    b2 = np.random.randn(1, 1)\n",
    "    Z2 = np.random.randn(1, 4)\n",
    "    linear_cache2 = (A_prev2, W2, b2)\n",
    "    activation_cache2 = Z2\n",
    "    cache2 = (linear_cache2, activation_cache2)\n",
    "\n",
    "    caches = [cache1, cache2]\n",
    "\n",
    "    return AL, Y, caches"
   ]
  },
  {
   "cell_type": "code",
   "execution_count": 58,
   "metadata": {},
   "outputs": [
    {
     "name": "stdout",
     "output_type": "stream",
     "text": [
      "dA0 = [[ 0.          0.7146888  -1.45019292  0.        ]\n",
      " [ 0.          0.14866238  1.62542082  0.        ]]\n",
      "dW1 = [[ 0.03903602  0.05251084 -0.18811341]\n",
      " [-0.01231628  0.42724447  0.18803967]\n",
      " [ 0.          0.          0.        ]]\n",
      "db1 = [[-0.11003532]\n",
      " [-0.24826239]\n",
      " [ 0.        ]]\n",
      "dA1 = [[ 0.12913162 -0.44014127  1.34474919 -0.12582543]\n",
      " [-0.14175655  0.48317296 -1.47622251  0.13812712]\n",
      " [ 0.01663708 -0.05670698  0.17325496 -0.01621111]]\n",
      "dW2 = [[-0.02147491  0.40867788  0.12707748]]\n",
      "db2 = [[-0.22168561]]\n"
     ]
    }
   ],
   "source": [
    "AL, Y_assess, caches = L_model_backward_test_case()\n",
    "grads = L_model_backward(AL, Y_assess, caches)\n",
    "# print(grads)\n",
    "# def print_grads(grads):\n",
    "#     L = len(grads) // 3 # number of layers in the neural network\n",
    "#     for l in range(L):\n",
    "#         print(\"dW\" + str(l+1) + \" = \"+ str(grads[\"dW\" + str(l + 1)]))\n",
    "#         print(\"db\" + str(l+1) + \" = \"+ str(grads[\"db\" + str(l + 1)]))\n",
    "#         print(\"dA\" + str(l+1) + \" = \"+ str(grads[\"dA\" + str(l + 1)]))\n",
    "\n",
    "\n",
    "def print_grads(grads):\n",
    "    # Extract layer numbers from gradient keys\n",
    "    layer_numbers = set()\n",
    "    for key in grads.keys():\n",
    "        if key.startswith('dW') or key.startswith('db') or key.startswith('dA'):\n",
    "            try:\n",
    "                layer_num = int(key[2:])  # Extract number after 'dW', 'db', or 'dA'\n",
    "                layer_numbers.add(layer_num)\n",
    "            except:\n",
    "                continue\n",
    "    \n",
    "    # Sort layer numbers\n",
    "    layer_numbers = sorted(layer_numbers)\n",
    "    \n",
    "    # Print gradients for each layer\n",
    "    for l in layer_numbers:\n",
    "        if f\"dW{l}\" in grads:\n",
    "            print(f\"dW{l} = {grads[f'dW{l}']}\")\n",
    "        if f\"db{l}\" in grads:\n",
    "            print(f\"db{l} = {grads[f'db{l}']}\")\n",
    "        if f\"dA{l}\" in grads:\n",
    "            print(f\"dA{l} = {grads[f'dA{l}']}\")\n",
    "        \n",
    "print_grads(grads)"
   ]
  },
  {
   "cell_type": "markdown",
   "metadata": {},
   "source": [
    " ### 7.4 - Update Parameters\n",
    "\n",
    "In this section you will update the parameters of the model, using gradient descent: \n",
    "\n",
    "$$ W^{[l]} = W^{[l]} - \\alpha \\text{ } dW^{[l]} \\tag{16}$$\n",
    "$$ b^{[l]} = b^{[l]} - \\alpha \\text{ } db^{[l]} \\tag{17}$$\n",
    "\n",
    "where $\\alpha$ is the learning rate. After computing the updated parameters, store them in the parameters dictionary. "
   ]
  },
  {
   "cell_type": "markdown",
   "metadata": {},
   "source": [
    "\n",
    "**Instructions**:\n",
    "Update parameters using gradient descent on every $W^{[l]}$ and $b^{[l]}$ for $l = 1, 2, ..., L$. \n"
   ]
  },
  {
   "cell_type": "code",
   "execution_count": 59,
   "metadata": {},
   "outputs": [],
   "source": [
    "\n",
    "def update_parameters(parameters, grads, learning_rate):\n",
    "       \n",
    "    L = len(parameters) // 2 # number of layers in the neural network\n",
    "\n",
    "    # Update rule for each parameter. Use a for loop.\n",
    "    for l in range(L):\n",
    "        parameters[\"W\" + str(l+1)] =  parameters[\"W\" + str(l+1)] -(learning_rate* grads[\"dW\"+ str(l+1)])\n",
    "        parameters[\"b\" + str(l+1)] =  parameters[\"b\" + str(l+1)] -(learning_rate* grads[\"db\"+ str(l+1)])\n",
    "    return parameters"
   ]
  },
  {
   "cell_type": "code",
   "execution_count": 60,
   "metadata": {},
   "outputs": [
    {
     "name": "stdout",
     "output_type": "stream",
     "text": [
      "W1 = [[ 0.01622472 -0.00609853 -0.00526131]\n",
      " [ 0.01018045  0.04104958 -0.01421769]]\n",
      "b1 = [[ 6.8527e-05]\n",
      " [-3.0314e-05]]\n",
      "W2 = [[-0.0074817  -0.01248436]]\n",
      "b2 = [[8.815e-05]]\n"
     ]
    }
   ],
   "source": [
    "def update_parameters_test_case():\n",
    "    parameters = {\n",
    "        'W1': np.array([[ 0.01624345, -0.00611756, -0.00528172],\n",
    "                        [ 0.01016998,  0.04105985, -0.01420664]]), \n",
    "        'b1': np.array([[0.], [0.]]), \n",
    "        'W2': np.array([[-0.00757545, -0.01250722]]), \n",
    "        'b2': np.array([[0.]])\n",
    "    }\n",
    "    \n",
    "    grads = {\n",
    "        'dW1': np.array([[ 0.00018733, -0.00019033, -0.00020411],\n",
    "                         [-0.00010471,  0.00010267,  0.00011046]]),\n",
    "        'db1': np.array([[-0.00068527], [ 0.00030314]]),\n",
    "        'dW2': np.array([[-0.00093748, -0.00022857]]),\n",
    "        'db2': np.array([[-0.0008815 ]])\n",
    "    }\n",
    "    \n",
    "    return parameters, grads\n",
    "parameters, grads = update_parameters_test_case()\n",
    "parameters = update_parameters(parameters, grads, 0.1)\n",
    "\n",
    "print (\"W1 = \"+ str(parameters[\"W1\"]))\n",
    "print (\"b1 = \"+ str(parameters[\"b1\"]))\n",
    "print (\"W2 = \"+ str(parameters[\"W2\"]))\n",
    "print (\"b2 = \"+ str(parameters[\"b2\"]))"
   ]
  },
  {
   "cell_type": "markdown",
   "metadata": {},
   "source": [
    "### Now we have defined a Two Layer NN Model\n",
    "\n",
    "#### So lets Load some data"
   ]
  },
  {
   "cell_type": "code",
   "execution_count": null,
   "metadata": {},
   "outputs": [],
   "source": []
  },
  {
   "cell_type": "code",
   "execution_count": 61,
   "metadata": {},
   "outputs": [],
   "source": [
    "train_dataset = h5py.File('./train_catvnoncat.h5', \"r\")\n",
    "train_x_orig = np.array(train_dataset[\"train_set_x\"][:]) # your train set features\n",
    "train_y_orig = np.array(train_dataset[\"train_set_y\"][:]) # your train set labels\n",
    "\n",
    "test_dataset = h5py.File('./test_catvnoncat.h5', \"r\")\n",
    "test_x_orig = np.array(test_dataset[\"test_set_x\"][:]) # your test set features\n",
    "test_y_orig = np.array(test_dataset[\"test_set_y\"][:]) # your test set labels\n",
    "\n",
    "classes = np.array(test_dataset[\"list_classes\"][:]) # the list of classes\n",
    "\n",
    "train_y = train_y_orig.reshape((1, train_y_orig.shape[0]))\n",
    "test_y = test_y_orig.reshape((1, test_y_orig.shape[0]))\n",
    "    \n"
   ]
  },
  {
   "cell_type": "code",
   "execution_count": 62,
   "metadata": {},
   "outputs": [
    {
     "name": "stdout",
     "output_type": "stream",
     "text": [
      "y = 0. It's a non-cat picture.\n"
     ]
    },
    {
     "data": {
      "image/png": "[encoded data removed]",
      "text/plain": [
       "<Figure size 500x400 with 1 Axes>"
      ]
     },
     "metadata": {},
     "output_type": "display_data"
    }
   ],
   "source": [
    "# Example of a picture\n",
    "index = 12\n",
    "plt.imshow(train_x_orig[index])\n",
    "print (\"y = \" + str(train_y[0,index]) + \". It's a \" + classes[train_y[0,index]].decode(\"utf-8\") +  \" picture.\")"
   ]
  },
  {
   "cell_type": "code",
   "execution_count": 63,
   "metadata": {},
   "outputs": [
    {
     "name": "stdout",
     "output_type": "stream",
     "text": [
      "Number of training examples: 209\n",
      "Number of testing examples: 50\n",
      "Each image is of size: (64, 64, 3)\n",
      "train_x_orig shape: (209, 64, 64, 3)\n",
      "train_y shape: (1, 209)\n",
      "test_x_orig shape: (50, 64, 64, 3)\n",
      "test_y shape: (1, 50)\n"
     ]
    }
   ],
   "source": [
    "# Explore your dataset \n",
    "m_train = train_x_orig.shape[0]\n",
    "num_px = train_x_orig.shape[1]\n",
    "m_test = test_x_orig.shape[0]\n",
    "\n",
    "print (\"Number of training examples: \" + str(m_train))\n",
    "print (\"Number of testing examples: \" + str(m_test))\n",
    "print (\"Each image is of size: (\" + str(num_px) + \", \" + str(num_px) + \", 3)\")\n",
    "print (\"train_x_orig shape: \" + str(train_x_orig.shape))\n",
    "print (\"train_y shape: \" + str(train_y.shape))\n",
    "print (\"test_x_orig shape: \" + str(test_x_orig.shape))\n",
    "print (\"test_y shape: \" + str(test_y.shape))"
   ]
  },
  {
   "cell_type": "code",
   "execution_count": 64,
   "metadata": {},
   "outputs": [
    {
     "name": "stdout",
     "output_type": "stream",
     "text": [
      "train_x's shape: (12288, 209)\n",
      "test_x's shape: (12288, 50)\n"
     ]
    }
   ],
   "source": [
    "# Reshape the training and test examples \n",
    "train_x_flatten = train_x_orig.reshape(train_x_orig.shape[0], -1).T   # The \"-1\" makes reshape flatten the remaining dimensions\n",
    "test_x_flatten = test_x_orig.reshape(test_x_orig.shape[0], -1).T\n",
    "\n",
    "# Standardize data to have feature values between 0 and 1.\n",
    "train_x = train_x_flatten/255.\n",
    "test_x = test_x_flatten/255.\n",
    "\n",
    "print (\"train_x's shape: \" + str(train_x.shape))\n",
    "print (\"test_x's shape: \" + str(test_x.shape))\n"
   ]
  },
  {
   "cell_type": "markdown",
   "metadata": {},
   "source": [
    "Architecture of the Model\n",
    "Now that you are familiar with the dataset, it is time to build a deep neural network to distinguish cat images from non-cat images.\n",
    "\n",
    "You will build two different models:\n",
    "- A 2-layer neural network\n",
    "- An L-layer deep neural network\n",
    "\n",
    "You will then compare the performance of these models, and also try out different values for $L$. \n",
    "\n",
    "Let's look at the two architectures.\n",
    "\n",
    "### 2-layer neural network\n",
    "\n",
    "\n",
    "<u>Detailed Architecture of figure 2</u>:\n",
    "- The input is a (64,64,3) image which is flattened to a vector of size $(12288,1)$. \n",
    "- The corresponding vector: $[x_0,x_1,...,x_{12287}]^T$ is then multiplied by the weight matrix $W^{[1]}$ of size $(n^{[1]}, 12288)$.\n",
    "- You then add a bias term and take its relu to get the following vector: $[a_0^{[1]}, a_1^{[1]},..., a_{n^{[1]}-1}^{[1]}]^T$.\n",
    "- You then repeat the same process.\n",
    "- You multiply the resulting vector by $W^{[2]}$ and add your intercept (bias). \n",
    "- Finally, you take the sigmoid of the result. If it is greater than 0.5, you classify it to be a cat.\n",
    "\n",
    "###  L-layer deep neural network\n",
    "\n",
    "It is hard to represent an L-layer deep neural network with the above representation. However, here is a simplified network representation:\n",
    "\n",
    "<u>Detailed Architecture of figure 3</u>:\n",
    "- The input is a (64,64,3) image which is flattened to a vector of size (12288,1).\n",
    "- The corresponding vector: $[x_0,x_1,...,x_{12287}]^T$ is then multiplied by the weight matrix $W^{[1]}$ and then you add the intercept $b^{[1]}$. The result is called the linear unit.\n",
    "- Next, you take the relu of the linear unit. This process could be repeated several times for each $(W^{[l]}, b^{[l]})$ depending on the model architecture.\n",
    "- Finally, you take the sigmoid of the final linear unit. If it is greater than 0.5, you classify it to be a cat.\n",
    "\n",
    "###  General methodology\n",
    "\n",
    "As usual you will follow the Deep Learning methodology to build the model:\n",
    "    1. Initialize parameters / Define hyperparameters\n",
    "    2. Loop for num_iterations:\n",
    "        a. Forward propagation\n",
    "        b. Compute cost function\n",
    "        c. Backward propagation\n",
    "        d. Update parameters (using parameters, and grads from backprop) \n",
    "    4. Use trained parameters to predict labels\n",
    "\n",
    "Let's now implement those two models!"
   ]
  },
  {
   "cell_type": "code",
   "execution_count": 65,
   "metadata": {},
   "outputs": [],
   "source": [
    "### CONSTANTS DEFINING THE MODEL ####\n",
    "n_x = 12288     # num_px * num_px * 3\n",
    "n_h = 7\n",
    "n_y = 1\n",
    "layers_dims = (n_x, n_h, n_y)"
   ]
  },
  {
   "cell_type": "markdown",
   "metadata": {},
   "source": [
    "### Lets define two functions to test the model"
   ]
  },
  {
   "cell_type": "code",
   "execution_count": 90,
   "metadata": {},
   "outputs": [],
   "source": [
    "def predict(X, y, parameters, rate=0.3):\n",
    "        \n",
    "    m = X.shape[1]\n",
    "    n = len(parameters) // 2 # number of layers in the neural network\n",
    "    p = np.zeros((1,m))\n",
    "    \n",
    "    # Forward propagation\n",
    "    probas, caches, non_zero = L_model_forward(X, parameters, rate=rate)\n",
    "\n",
    "    \n",
    "    # convert probas to 0/1 predictions\n",
    "    for i in range(0, probas.shape[1]):\n",
    "        if probas[0,i] > 0.5:\n",
    "            p[0,i] = 1\n",
    "        else:\n",
    "            p[0,i] = 0\n",
    "    \n",
    "    #print results\n",
    "    #print (\"predictions: \" + str(p))\n",
    "    #print (\"true labels: \" + str(y))\n",
    "    print(\"Accuracy: \"  + str(np.sum((p == y)/m)))\n",
    "        \n",
    "    return p\n",
    "\n",
    "def print_mislabeled_images(classes, X, y, p):\n",
    "   \n",
    "    a = p + y\n",
    "    mislabeled_indices = np.asarray(np.where(a == 1))\n",
    "    plt.rcParams['figure.figsize'] = (40.0, 40.0) # set default size of plots\n",
    "    num_images = len(mislabeled_indices[0])\n",
    "    for i in range(num_images):\n",
    "        index = mislabeled_indices[1][i]\n",
    "        \n",
    "        plt.subplot(2, num_images, i + 1)\n",
    "        plt.imshow(X[:,index].reshape(64,64,3), interpolation='nearest')\n",
    "        plt.axis('off')\n",
    "        plt.title(\"Prediction: \" + classes[int(p[0,index])].decode(\"utf-8\") + \" \\n Class: \" + classes[y[0,index]].decode(\"utf-8\"))\n"
   ]
  },
  {
   "cell_type": "code",
   "execution_count": 67,
   "metadata": {},
   "outputs": [],
   "source": [
    "### CONSTANTS ###\n",
    "layers_dims = [12288, 60, 40, 20, 7, 5, 1] #  4-layer model"
   ]
  },
  {
   "cell_type": "code",
   "execution_count": 86,
   "metadata": {},
   "outputs": [],
   "source": [
    "def L_layer_model(X, Y, layers_dims, blackOutRate=0.3, learning_rate = 0.0075, num_iterations = 3000, print_cost=False):#lr was 0.009\n",
    "    \n",
    "    np.random.seed(1)\n",
    "    costs = []                         # keep track of cost\n",
    "    \n",
    "    # Parameters initialization. (≈ 1 line of code)\n",
    "    parameters = initialize_parameters_deep(layers_dims)\n",
    "    non_zero=[]\n",
    "    # Loop (gradient descent)\n",
    "    for i in range(0, num_iterations):\n",
    "\n",
    "        # Forward propagation: [LINEAR -> RELU]*(L-1) -> LINEAR -> SIGMOID.\n",
    "        AL, caches, total_non_zero = L_model_forward(X, parameters, rate=blackOutRate)\n",
    "        \n",
    "        non_zero.append(sum(total_non_zero)/len(total_non_zero))\n",
    "        # Compute cost.\n",
    "        cost = compute_cost(AL,Y)\n",
    "    \n",
    "        # Backward propagation.\n",
    "        grads = L_model_backward(AL, Y, caches)\n",
    "        # Update parameters.\n",
    "        parameters = update_parameters(parameters, grads, learning_rate)\n",
    "                \n",
    "        # Print the cost every 100 training example\n",
    "        if print_cost and i % 100 == 0:\n",
    "            print (\"Cost after iteration %i: %f\" %(i, cost))\n",
    "        if print_cost and i % 100 == 0:\n",
    "            costs.append(cost)\n",
    "\n",
    "    # print(\"Non-zero percentage per layer: \" + str(non_zero)) \n",
    "    # plot the cost\n",
    "    # plt.plot(np.squeeze(costs))\n",
    "    # plt.ylabel('cost')\n",
    "    # plt.xlabel('iterations (per hundreds)')\n",
    "    # plt.title(\"Learning rate =\" + str(learning_rate))\n",
    "    # plt.show()\n",
    "    \n",
    "    return parameters, costs, sum(non_zero)/len(non_zero)"
   ]
  },
  {
   "cell_type": "code",
   "execution_count": 73,
   "metadata": {},
   "outputs": [],
   "source": [
    "def L_layer_model_BN(X, Y, layers_dims, learning_rate = 0.0075, num_iterations = 4000, print_cost=False):#lr was 0.009\n",
    "    \n",
    "    np.random.seed(1)\n",
    "    costs = []                         # keep track of cost\n",
    "    \n",
    "    # Parameters initialization. (≈ 1 line of code)\n",
    "    parameters = initialize_parameters_deep(layers_dims)\n",
    "    non_zero=[]\n",
    "    # Loop (gradient descent)\n",
    "    for i in range(0, num_iterations):\n",
    "\n",
    "        # Forward propagation: [LINEAR -> RELU]*(L-1) -> LINEAR -> SIGMOID.\n",
    "        AL, caches = L_model_forward_BN(X, parameters)\n",
    "        \n",
    "        # Compute cost.\n",
    "        cost = compute_cost(AL,Y)\n",
    "    \n",
    "        # Backward propagation.\n",
    "        grads = L_model_backward(AL, Y, caches)\n",
    "        # Update parameters.\n",
    "        parameters = update_parameters(parameters, grads, learning_rate)\n",
    "                \n",
    "        # Print the cost every 100 training example\n",
    "        if print_cost and i % 100 == 0:\n",
    "            print (\"Cost after iteration %i: %f\" %(i, cost))\n",
    "        if print_cost and i % 100 == 0:\n",
    "            costs.append(cost)\n",
    "    \n",
    "    # plot the cost\n",
    "    # plt.plot(np.squeeze(costs))\n",
    "    # plt.ylabel('cost')\n",
    "    # plt.xlabel('iterations (per hundreds)')\n",
    "    # plt.title(\"Learning rate =\" + str(learning_rate))\n",
    "    # plt.show()\n",
    "    \n",
    "    return parameters, costs"
   ]
  },
  {
   "cell_type": "code",
   "execution_count": null,
   "metadata": {},
   "outputs": [
    {
     "name": "stdout",
     "output_type": "stream",
     "text": [
      "Cost after iteration 0: 0.693147\n",
      "Cost after iteration 100: 0.678010\n",
      "Cost after iteration 200: 0.667598\n",
      "Cost after iteration 300: 0.660420\n",
      "Cost after iteration 400: 0.655455\n",
      "Cost after iteration 500: 0.652011\n",
      "Cost after iteration 600: 0.649613\n",
      "Cost after iteration 700: 0.647943\n",
      "Cost after iteration 800: 0.646768\n",
      "Cost after iteration 900: 0.645947\n",
      "Cost after iteration 1000: 0.645370\n",
      "Cost after iteration 1100: 0.644957\n",
      "Cost after iteration 1200: 0.644671\n",
      "Cost after iteration 1300: 0.644467\n",
      "Cost after iteration 1400: 0.644329\n",
      "Cost after iteration 1500: 0.644222\n",
      "Cost after iteration 1600: 0.644151\n",
      "Cost after iteration 1700: 0.644096\n",
      "Cost after iteration 1800: 0.644063\n",
      "Cost after iteration 1900: 0.644038\n",
      "Cost after iteration 2000: 0.644018\n",
      "Cost after iteration 2100: 0.644008\n",
      "Cost after iteration 2200: 0.643998\n",
      "Cost after iteration 2300: 0.643991\n",
      "Cost after iteration 2400: 0.643984\n",
      "Cost after iteration 2500: 0.643981\n",
      "Cost after iteration 2600: 0.643978\n",
      "Cost after iteration 2700: 0.643977\n",
      "Cost after iteration 2800: 0.643976\n",
      "Cost after iteration 2900: 0.643973\n",
      "Cost after iteration 0: 0.693147\n",
      "Cost after iteration 100: 0.678010\n",
      "Cost after iteration 200: 0.667599\n",
      "Cost after iteration 300: 0.660420\n",
      "Cost after iteration 400: 0.655455\n",
      "Cost after iteration 500: 0.652012\n",
      "Cost after iteration 600: 0.649614\n",
      "Cost after iteration 700: 0.647942\n",
      "Cost after iteration 800: 0.646768\n",
      "Cost after iteration 900: 0.645947\n",
      "Cost after iteration 1000: 0.645369\n",
      "Cost after iteration 1100: 0.644957\n",
      "Cost after iteration 1200: 0.644672\n",
      "Cost after iteration 1300: 0.644467\n",
      "Cost after iteration 1400: 0.644329\n",
      "Cost after iteration 1500: 0.644221\n",
      "Cost after iteration 1600: 0.644150\n",
      "Cost after iteration 1700: 0.644096\n",
      "Cost after iteration 1800: 0.644064\n",
      "Cost after iteration 1900: 0.644037\n",
      "Cost after iteration 2000: 0.644017\n",
      "Cost after iteration 2100: 0.644008\n",
      "Cost after iteration 2200: 0.643997\n",
      "Cost after iteration 2300: 0.643993\n",
      "Cost after iteration 2400: 0.643983\n",
      "Cost after iteration 2500: 0.643978\n",
      "Cost after iteration 2600: 0.643979\n",
      "Cost after iteration 2700: 0.643975\n",
      "Cost after iteration 2800: 0.643977\n",
      "Cost after iteration 2900: 0.643971\n",
      "Cost after iteration 0: 0.693147\n",
      "Cost after iteration 100: 0.678010\n",
      "Cost after iteration 200: 0.667599\n",
      "Cost after iteration 300: 0.660420\n",
      "Cost after iteration 400: 0.655455\n",
      "Cost after iteration 500: 0.652012\n",
      "Cost after iteration 600: 0.649613\n",
      "Cost after iteration 700: 0.647941\n",
      "Cost after iteration 800: 0.646765\n",
      "Cost after iteration 900: 0.645947\n",
      "Cost after iteration 1000: 0.645370\n",
      "Cost after iteration 1100: 0.644959\n",
      "Cost after iteration 1200: 0.644672\n",
      "Cost after iteration 1300: 0.644467\n",
      "Cost after iteration 1400: 0.644329\n",
      "Cost after iteration 1500: 0.644218\n",
      "Cost after iteration 1600: 0.644152\n",
      "Cost after iteration 1700: 0.644097\n",
      "Cost after iteration 1800: 0.644064\n",
      "Cost after iteration 1900: 0.644037\n",
      "Cost after iteration 2000: 0.644017\n",
      "Cost after iteration 2100: 0.644007\n",
      "Cost after iteration 2200: 0.643997\n",
      "Cost after iteration 2300: 0.643992\n",
      "Cost after iteration 2400: 0.643981\n",
      "Cost after iteration 2500: 0.643975\n",
      "Cost after iteration 2600: 0.643979\n",
      "Cost after iteration 2700: 0.643972\n",
      "Cost after iteration 2800: 0.643977\n",
      "Cost after iteration 2900: 0.643971\n",
      "\n",
      "Average Non-Zero Activations:\n",
      "Rate 0.3: 0.7001\n",
      "Rate 0.4: 0.6001\n",
      "Rate 0.5: 0.5001\n"
     ]
    },
    {
     "data": {
      "image/png": "[encoded data removed]",
      "text/plain": [
       "<Figure size 1200x700 with 1 Axes>"
      ]
     },
     "metadata": {},
     "output_type": "display_data"
    }
   ],
   "source": [
    "parameters1, costs1, non_zero_avg1 = L_layer_model(train_x, train_y, layers_dims, print_cost = True, blackOutRate=0.3 )\n",
    "parameters2, costs2, non_zero_avg2 = L_layer_model(train_x, train_y, layers_dims, print_cost = True, blackOutRate=0.4 )\n",
    "parameters3, costs3, non_zero_avg3 = L_layer_model(train_x, train_y, layers_dims, print_cost = True, blackOutRate=0.5 )\n",
    "print(\"\\nAverage Non-Zero Activations:\")\n",
    "print(f\"Rate 0.3: {non_zero_avg1:.4f}\")\n",
    "print(f\"Rate 0.4: {non_zero_avg2:.4f}\")\n",
    "print(f\"Rate 0.5: {non_zero_avg3:.4f}\")\n",
    "\n",
    "fig, ax1 = plt.subplots(figsize=(12, 7))\n",
    "plt.title('Cost vs. Active Neurons over Iterations', fontsize=16)\n",
    "\n",
    "ax1.set_xlabel('Iterations (per hundreds)', fontsize=12)\n",
    "ax1.set_ylabel('Cost', color='tab:blue', fontsize=12)\n",
    "p1 = ax1.plot(np.squeeze(costs1), 'o', color='C0', label='Cost (Rate=0.3)')[0]\n",
    "p2 = ax1.plot(np.squeeze(costs2), 'o', color='C1', label='Cost (Rate=0.4)')[0]\n",
    "p3 = ax1.plot(np.squeeze(costs3), 'o', color='C2', label='Cost (Rate=0.5)')[0]\n",
    "ax1.tick_params(axis='y', labelcolor='tab:blue')\n",
    "ax1.grid(True, linestyle='--', alpha=0.6)\n",
    "\n",
    "ax1.legend(handles=[p1, p2, p3], loc='upper right')\n",
    "\n",
    "fig.tight_layout() \n",
    "plt.show()"
   ]
  },
  {
   "cell_type": "code",
   "execution_count": 91,
   "metadata": {},
   "outputs": [
    {
     "name": "stdout",
     "output_type": "stream",
     "text": [
      "Accuracy: 0.6555023923444976\n",
      "Accuracy: 0.3400000000000001\n",
      "Accuracy: 0.6555023923444976\n",
      "Accuracy: 0.3400000000000001\n",
      "Accuracy: 0.6555023923444976\n",
      "Accuracy: 0.3400000000000001\n"
     ]
    }
   ],
   "source": [
    "predictions_train = predict(train_x, train_y, parameters1, rate=0.3)\n",
    "predictions_test = predict(test_x, test_y, parameters1, rate=0.3)\n",
    "\n",
    "predictions_train = predict(train_x, train_y, parameters2, rate=0.4)\n",
    "predictions_test = predict(test_x, test_y, parameters2, rate=0.4)\n",
    "\n",
    "predictions_train = predict(train_x, train_y, parameters3, rate=0.5)\n",
    "predictions_test = predict(test_x, test_y, parameters3, rate=0.5)"
   ]
  },
  {
   "cell_type": "code",
   "execution_count": null,
   "metadata": {},
   "outputs": [
    {
     "name": "stdout",
     "output_type": "stream",
     "text": [
      "Cost after iteration 0: 0.693434\n",
      "Cost after iteration 100: 0.651762\n",
      "Cost after iteration 200: 0.638194\n",
      "Cost after iteration 300: 0.632194\n",
      "Cost after iteration 400: 0.627765\n",
      "Cost after iteration 500: 0.624312\n",
      "Cost after iteration 600: 0.621834\n",
      "Cost after iteration 700: 0.620122\n",
      "Cost after iteration 800: 0.618569\n",
      "Cost after iteration 900: 0.617146\n",
      "Cost after iteration 1000: 0.615567\n",
      "Cost after iteration 1100: 0.614089\n",
      "Cost after iteration 1200: 0.612413\n",
      "Cost after iteration 1300: 0.610894\n",
      "Cost after iteration 1400: 0.609478\n",
      "Cost after iteration 1500: 0.608061\n",
      "Cost after iteration 1600: 0.606730\n",
      "Cost after iteration 1700: 0.605390\n",
      "Cost after iteration 1800: 0.603988\n",
      "Cost after iteration 1900: 0.602509\n",
      "Cost after iteration 2000: 0.600955\n",
      "Cost after iteration 2100: 0.599384\n",
      "Cost after iteration 2200: 0.597381\n",
      "Cost after iteration 2300: 0.595284\n",
      "Cost after iteration 2400: 0.593394\n",
      "Cost after iteration 2500: 0.591669\n",
      "Cost after iteration 2600: 0.589951\n",
      "Cost after iteration 2700: 0.588214\n",
      "Cost after iteration 2800: 0.586341\n",
      "Cost after iteration 2900: 0.584515\n",
      "Cost after iteration 3000: 0.582717\n",
      "Cost after iteration 3100: 0.580843\n",
      "Cost after iteration 3200: 0.578796\n",
      "Cost after iteration 3300: 0.576559\n",
      "Cost after iteration 3400: 0.574262\n",
      "Cost after iteration 3500: 0.571781\n",
      "Cost after iteration 3600: 0.569153\n",
      "Cost after iteration 3700: 0.566423\n",
      "Cost after iteration 3800: 0.563532\n",
      "Cost after iteration 3900: 0.560599\n"
     ]
    },
    {
     "data": {
      "image/png": "[encoded data removed]",
      "text/plain": [
       "<Figure size 1200x700 with 1 Axes>"
      ]
     },
     "metadata": {},
     "output_type": "display_data"
    }
   ],
   "source": [
    "\n",
    "parameters1, costs1 = L_layer_model_BN(train_x, train_y, layers_dims, print_cost = True)\n",
    "\n",
    "fig, ax1 = plt.subplots(figsize=(12, 7))\n",
    "plt.title('Cost vs. Active Neurons over Iterations', fontsize=16)\n",
    "\n",
    "ax1.set_xlabel('Iterations (per hundreds)', fontsize=12)\n",
    "ax1.set_ylabel('Cost', color='tab:blue', fontsize=12)\n",
    "p1 = ax1.plot(np.squeeze(costs1), 'o', color='C0')[0]\n",
    "ax1.tick_params(axis='y', labelcolor='tab:blue')\n",
    "ax1.grid(True, linestyle='--', alpha=0.6)\n",
    "\n",
    "\n",
    "fig.tight_layout() \n",
    "plt.show()"
   ]
  },
  {
   "cell_type": "markdown",
   "metadata": {},
   "source": [
    "### How to use on new Image"
   ]
  },
  {
   "cell_type": "code",
   "execution_count": null,
   "metadata": {},
   "outputs": [],
   "source": [
    "#my_image = \"my_image.jpg\" # change this to the name of your image file \n",
    "#my_label_y = [1] # the true class of your image (1 -> cat, 0 -> non-cat)\n",
    "\n",
    "#fname = \"images/\" + my_image\n",
    "#image = np.array(ndimage.imread(fname, flatten=False))\n",
    "#my_image = scipy.misc.imresize(image, size=(num_px,num_px)).reshape((num_px*num_px*3,1))\n",
    "#my_image = my_image/255.\n",
    "#my_predicted_image = predict(my_image, my_label_y, parameters)\n",
    "\n",
    "#plt.imshow(image)\n",
    "#print (\"y = \" + str(np.squeeze(my_predicted_image)) + \", your L-layer model predicts a \\\"\" + classes[int(np.squeeze(my_predicted_image)),].decode(\"utf-8\") +  \"\\\" picture.\")"
   ]
  }
 ],
 "metadata": {
  "kernelspec": {
   "display_name": "(Lab) Neural Networks",
   "language": "python",
   "name": "python3"
  },
  "language_info": {
   "codemirror_mode": {
    "name": "ipython",
    "version": 3
   },
   "file_extension": ".py",
   "mimetype": "text/x-python",
   "name": "python",
   "nbconvert_exporter": "python",
   "pygments_lexer": "ipython3",
   "version": "3.12.2"
  }
 },
 "nbformat": 4,
 "nbformat_minor": 2
}
