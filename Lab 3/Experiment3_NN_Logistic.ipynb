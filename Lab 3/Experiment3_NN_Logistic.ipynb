{
  "cells": [
    {
      "cell_type": "markdown",
      "metadata": {
        "id": "VHE6ZPb01xow"
      },
      "source": [
        "# Logistic Regression with a Neural Network mindset\n",
        "\n",
        "In this Notebook, We will learn a simple Neural Network with Logisitic Regression in mind. This Notebook build a logistic regression classifier on a dataset. This notebook will step you through how to do this with a Neural Network mindset.\n",
        "Acknowledgment: Adapted from DeepLearning.\n",
        "Following things will be covered\n",
        "- Building the general architecture of a learning algorithm, including:\n",
        "    - Initializing parameters\n",
        "    - Calculating the cost function and its gradient\n",
        "    - Using an optimization algorithm (gradient descent)\n",
        "- Gathering all three functions above into a main model function, in the right order."
      ],
      "id": "VHE6ZPb01xow"
    },
    {
      "cell_type": "code",
      "execution_count": 4,
      "metadata": {
        "id": "Y5oM7XVN1xoz"
      },
      "outputs": [],
      "source": [
        "import numpy as np\n",
        "import matplotlib.pyplot as plt\n",
        "import h5py\n",
        "import scipy\n",
        "import pandas as pd\n",
        "%matplotlib inline"
      ],
      "id": "Y5oM7XVN1xoz"
    },
    {
      "cell_type": "markdown",
      "metadata": {
        "id": "B230JopI1xoz"
      },
      "source": [
        "#### This example runs for binary classification. So load a binary dataset"
      ],
      "id": "B230JopI1xoz"
    },
    {
      "cell_type": "code",
      "execution_count": 5,
      "metadata": {
        "id": "KBDUuZL-1xo0",
        "outputId": "75aa2f14-3f02-41c3-b19f-256f05a3fe2e",
        "colab": {
          "base_uri": "https://localhost:8080/",
          "height": 206
        }
      },
      "outputs": [
        {
          "output_type": "execute_result",
          "data": {
            "text/plain": [
              "   credit.policy             purpose  int.rate  installment  log.annual.inc  \\\n",
              "0              1  debt_consolidation    0.1189       829.10       11.350407   \n",
              "1              1         credit_card    0.1071       228.22       11.082143   \n",
              "2              1  debt_consolidation    0.1357       366.86       10.373491   \n",
              "3              1  debt_consolidation    0.1008       162.34       11.350407   \n",
              "4              1         credit_card    0.1426       102.92       11.299732   \n",
              "\n",
              "     dti  fico  days.with.cr.line  revol.bal  revol.util  inq.last.6mths  \\\n",
              "0  19.48   737        5639.958333      28854        52.1               0   \n",
              "1  14.29   707        2760.000000      33623        76.7               0   \n",
              "2  11.63   682        4710.000000       3511        25.6               1   \n",
              "3   8.10   712        2699.958333      33667        73.2               1   \n",
              "4  14.97   667        4066.000000       4740        39.5               0   \n",
              "\n",
              "   delinq.2yrs  pub.rec  not.fully.paid  \n",
              "0            0        0               0  \n",
              "1            0        0               0  \n",
              "2            0        0               0  \n",
              "3            0        0               0  \n",
              "4            1        0               0  "
            ],
            "text/html": [
              "\n",
              "  <div id=\"df-304bd5e6-b596-49c9-84d2-2daa439dbfd6\" class=\"colab-df-container\">\n",
              "    <div>\n",
              "<style scoped>\n",
              "    .dataframe tbody tr th:only-of-type {\n",
              "        vertical-align: middle;\n",
              "    }\n",
              "\n",
              "    .dataframe tbody tr th {\n",
              "        vertical-align: top;\n",
              "    }\n",
              "\n",
              "    .dataframe thead th {\n",
              "        text-align: right;\n",
              "    }\n",
              "</style>\n",
              "<table border=\"1\" class=\"dataframe\">\n",
              "  <thead>\n",
              "    <tr style=\"text-align: right;\">\n",
              "      <th></th>\n",
              "      <th>credit.policy</th>\n",
              "      <th>purpose</th>\n",
              "      <th>int.rate</th>\n",
              "      <th>installment</th>\n",
              "      <th>log.annual.inc</th>\n",
              "      <th>dti</th>\n",
              "      <th>fico</th>\n",
              "      <th>days.with.cr.line</th>\n",
              "      <th>revol.bal</th>\n",
              "      <th>revol.util</th>\n",
              "      <th>inq.last.6mths</th>\n",
              "      <th>delinq.2yrs</th>\n",
              "      <th>pub.rec</th>\n",
              "      <th>not.fully.paid</th>\n",
              "    </tr>\n",
              "  </thead>\n",
              "  <tbody>\n",
              "    <tr>\n",
              "      <th>0</th>\n",
              "      <td>1</td>\n",
              "      <td>debt_consolidation</td>\n",
              "      <td>0.1189</td>\n",
              "      <td>829.10</td>\n",
              "      <td>11.350407</td>\n",
              "      <td>19.48</td>\n",
              "      <td>737</td>\n",
              "      <td>5639.958333</td>\n",
              "      <td>28854</td>\n",
              "      <td>52.1</td>\n",
              "      <td>0</td>\n",
              "      <td>0</td>\n",
              "      <td>0</td>\n",
              "      <td>0</td>\n",
              "    </tr>\n",
              "    <tr>\n",
              "      <th>1</th>\n",
              "      <td>1</td>\n",
              "      <td>credit_card</td>\n",
              "      <td>0.1071</td>\n",
              "      <td>228.22</td>\n",
              "      <td>11.082143</td>\n",
              "      <td>14.29</td>\n",
              "      <td>707</td>\n",
              "      <td>2760.000000</td>\n",
              "      <td>33623</td>\n",
              "      <td>76.7</td>\n",
              "      <td>0</td>\n",
              "      <td>0</td>\n",
              "      <td>0</td>\n",
              "      <td>0</td>\n",
              "    </tr>\n",
              "    <tr>\n",
              "      <th>2</th>\n",
              "      <td>1</td>\n",
              "      <td>debt_consolidation</td>\n",
              "      <td>0.1357</td>\n",
              "      <td>366.86</td>\n",
              "      <td>10.373491</td>\n",
              "      <td>11.63</td>\n",
              "      <td>682</td>\n",
              "      <td>4710.000000</td>\n",
              "      <td>3511</td>\n",
              "      <td>25.6</td>\n",
              "      <td>1</td>\n",
              "      <td>0</td>\n",
              "      <td>0</td>\n",
              "      <td>0</td>\n",
              "    </tr>\n",
              "    <tr>\n",
              "      <th>3</th>\n",
              "      <td>1</td>\n",
              "      <td>debt_consolidation</td>\n",
              "      <td>0.1008</td>\n",
              "      <td>162.34</td>\n",
              "      <td>11.350407</td>\n",
              "      <td>8.10</td>\n",
              "      <td>712</td>\n",
              "      <td>2699.958333</td>\n",
              "      <td>33667</td>\n",
              "      <td>73.2</td>\n",
              "      <td>1</td>\n",
              "      <td>0</td>\n",
              "      <td>0</td>\n",
              "      <td>0</td>\n",
              "    </tr>\n",
              "    <tr>\n",
              "      <th>4</th>\n",
              "      <td>1</td>\n",
              "      <td>credit_card</td>\n",
              "      <td>0.1426</td>\n",
              "      <td>102.92</td>\n",
              "      <td>11.299732</td>\n",
              "      <td>14.97</td>\n",
              "      <td>667</td>\n",
              "      <td>4066.000000</td>\n",
              "      <td>4740</td>\n",
              "      <td>39.5</td>\n",
              "      <td>0</td>\n",
              "      <td>1</td>\n",
              "      <td>0</td>\n",
              "      <td>0</td>\n",
              "    </tr>\n",
              "  </tbody>\n",
              "</table>\n",
              "</div>\n",
              "    <div class=\"colab-df-buttons\">\n",
              "\n",
              "  <div class=\"colab-df-container\">\n",
              "    <button class=\"colab-df-convert\" onclick=\"convertToInteractive('df-304bd5e6-b596-49c9-84d2-2daa439dbfd6')\"\n",
              "            title=\"Convert this dataframe to an interactive table.\"\n",
              "            style=\"display:none;\">\n",
              "\n",
              "  <svg xmlns=\"http://www.w3.org/2000/svg\" height=\"24px\" viewBox=\"0 -960 960 960\">\n",
              "    <path d=\"M120-120v-720h720v720H120Zm60-500h600v-160H180v160Zm220 220h160v-160H400v160Zm0 220h160v-160H400v160ZM180-400h160v-160H180v160Zm440 0h160v-160H620v160ZM180-180h160v-160H180v160Zm440 0h160v-160H620v160Z\"/>\n",
              "  </svg>\n",
              "    </button>\n",
              "\n",
              "  <style>\n",
              "    .colab-df-container {\n",
              "      display:flex;\n",
              "      gap: 12px;\n",
              "    }\n",
              "\n",
              "    .colab-df-convert {\n",
              "      background-color: #E8F0FE;\n",
              "      border: none;\n",
              "      border-radius: 50%;\n",
              "      cursor: pointer;\n",
              "      display: none;\n",
              "      fill: #1967D2;\n",
              "      height: 32px;\n",
              "      padding: 0 0 0 0;\n",
              "      width: 32px;\n",
              "    }\n",
              "\n",
              "    .colab-df-convert:hover {\n",
              "      background-color: #E2EBFA;\n",
              "      box-shadow: 0px 1px 2px rgba(60, 64, 67, 0.3), 0px 1px 3px 1px rgba(60, 64, 67, 0.15);\n",
              "      fill: #174EA6;\n",
              "    }\n",
              "\n",
              "    .colab-df-buttons div {\n",
              "      margin-bottom: 4px;\n",
              "    }\n",
              "\n",
              "    [theme=dark] .colab-df-convert {\n",
              "      background-color: #3B4455;\n",
              "      fill: #D2E3FC;\n",
              "    }\n",
              "\n",
              "    [theme=dark] .colab-df-convert:hover {\n",
              "      background-color: #434B5C;\n",
              "      box-shadow: 0px 1px 3px 1px rgba(0, 0, 0, 0.15);\n",
              "      filter: drop-shadow(0px 1px 2px rgba(0, 0, 0, 0.3));\n",
              "      fill: #FFFFFF;\n",
              "    }\n",
              "  </style>\n",
              "\n",
              "    <script>\n",
              "      const buttonEl =\n",
              "        document.querySelector('#df-304bd5e6-b596-49c9-84d2-2daa439dbfd6 button.colab-df-convert');\n",
              "      buttonEl.style.display =\n",
              "        google.colab.kernel.accessAllowed ? 'block' : 'none';\n",
              "\n",
              "      async function convertToInteractive(key) {\n",
              "        const element = document.querySelector('#df-304bd5e6-b596-49c9-84d2-2daa439dbfd6');\n",
              "        const dataTable =\n",
              "          await google.colab.kernel.invokeFunction('convertToInteractive',\n",
              "                                                    [key], {});\n",
              "        if (!dataTable) return;\n",
              "\n",
              "        const docLinkHtml = 'Like what you see? Visit the ' +\n",
              "          '<a target=\"_blank\" href=https://colab.research.google.com/notebooks/data_table.ipynb>data table notebook</a>'\n",
              "          + ' to learn more about interactive tables.';\n",
              "        element.innerHTML = '';\n",
              "        dataTable['output_type'] = 'display_data';\n",
              "        await google.colab.output.renderOutput(dataTable, element);\n",
              "        const docLink = document.createElement('div');\n",
              "        docLink.innerHTML = docLinkHtml;\n",
              "        element.appendChild(docLink);\n",
              "      }\n",
              "    </script>\n",
              "  </div>\n",
              "\n",
              "\n",
              "    <div id=\"df-668923c5-5e9f-49c6-b2c1-60157f86a903\">\n",
              "      <button class=\"colab-df-quickchart\" onclick=\"quickchart('df-668923c5-5e9f-49c6-b2c1-60157f86a903')\"\n",
              "                title=\"Suggest charts\"\n",
              "                style=\"display:none;\">\n",
              "\n",
              "<svg xmlns=\"http://www.w3.org/2000/svg\" height=\"24px\"viewBox=\"0 0 24 24\"\n",
              "     width=\"24px\">\n",
              "    <g>\n",
              "        <path d=\"M19 3H5c-1.1 0-2 .9-2 2v14c0 1.1.9 2 2 2h14c1.1 0 2-.9 2-2V5c0-1.1-.9-2-2-2zM9 17H7v-7h2v7zm4 0h-2V7h2v10zm4 0h-2v-4h2v4z\"/>\n",
              "    </g>\n",
              "</svg>\n",
              "      </button>\n",
              "\n",
              "<style>\n",
              "  .colab-df-quickchart {\n",
              "      --bg-color: #E8F0FE;\n",
              "      --fill-color: #1967D2;\n",
              "      --hover-bg-color: #E2EBFA;\n",
              "      --hover-fill-color: #174EA6;\n",
              "      --disabled-fill-color: #AAA;\n",
              "      --disabled-bg-color: #DDD;\n",
              "  }\n",
              "\n",
              "  [theme=dark] .colab-df-quickchart {\n",
              "      --bg-color: #3B4455;\n",
              "      --fill-color: #D2E3FC;\n",
              "      --hover-bg-color: #434B5C;\n",
              "      --hover-fill-color: #FFFFFF;\n",
              "      --disabled-bg-color: #3B4455;\n",
              "      --disabled-fill-color: #666;\n",
              "  }\n",
              "\n",
              "  .colab-df-quickchart {\n",
              "    background-color: var(--bg-color);\n",
              "    border: none;\n",
              "    border-radius: 50%;\n",
              "    cursor: pointer;\n",
              "    display: none;\n",
              "    fill: var(--fill-color);\n",
              "    height: 32px;\n",
              "    padding: 0;\n",
              "    width: 32px;\n",
              "  }\n",
              "\n",
              "  .colab-df-quickchart:hover {\n",
              "    background-color: var(--hover-bg-color);\n",
              "    box-shadow: 0 1px 2px rgba(60, 64, 67, 0.3), 0 1px 3px 1px rgba(60, 64, 67, 0.15);\n",
              "    fill: var(--button-hover-fill-color);\n",
              "  }\n",
              "\n",
              "  .colab-df-quickchart-complete:disabled,\n",
              "  .colab-df-quickchart-complete:disabled:hover {\n",
              "    background-color: var(--disabled-bg-color);\n",
              "    fill: var(--disabled-fill-color);\n",
              "    box-shadow: none;\n",
              "  }\n",
              "\n",
              "  .colab-df-spinner {\n",
              "    border: 2px solid var(--fill-color);\n",
              "    border-color: transparent;\n",
              "    border-bottom-color: var(--fill-color);\n",
              "    animation:\n",
              "      spin 1s steps(1) infinite;\n",
              "  }\n",
              "\n",
              "  @keyframes spin {\n",
              "    0% {\n",
              "      border-color: transparent;\n",
              "      border-bottom-color: var(--fill-color);\n",
              "      border-left-color: var(--fill-color);\n",
              "    }\n",
              "    20% {\n",
              "      border-color: transparent;\n",
              "      border-left-color: var(--fill-color);\n",
              "      border-top-color: var(--fill-color);\n",
              "    }\n",
              "    30% {\n",
              "      border-color: transparent;\n",
              "      border-left-color: var(--fill-color);\n",
              "      border-top-color: var(--fill-color);\n",
              "      border-right-color: var(--fill-color);\n",
              "    }\n",
              "    40% {\n",
              "      border-color: transparent;\n",
              "      border-right-color: var(--fill-color);\n",
              "      border-top-color: var(--fill-color);\n",
              "    }\n",
              "    60% {\n",
              "      border-color: transparent;\n",
              "      border-right-color: var(--fill-color);\n",
              "    }\n",
              "    80% {\n",
              "      border-color: transparent;\n",
              "      border-right-color: var(--fill-color);\n",
              "      border-bottom-color: var(--fill-color);\n",
              "    }\n",
              "    90% {\n",
              "      border-color: transparent;\n",
              "      border-bottom-color: var(--fill-color);\n",
              "    }\n",
              "  }\n",
              "</style>\n",
              "\n",
              "      <script>\n",
              "        async function quickchart(key) {\n",
              "          const quickchartButtonEl =\n",
              "            document.querySelector('#' + key + ' button');\n",
              "          quickchartButtonEl.disabled = true;  // To prevent multiple clicks.\n",
              "          quickchartButtonEl.classList.add('colab-df-spinner');\n",
              "          try {\n",
              "            const charts = await google.colab.kernel.invokeFunction(\n",
              "                'suggestCharts', [key], {});\n",
              "          } catch (error) {\n",
              "            console.error('Error during call to suggestCharts:', error);\n",
              "          }\n",
              "          quickchartButtonEl.classList.remove('colab-df-spinner');\n",
              "          quickchartButtonEl.classList.add('colab-df-quickchart-complete');\n",
              "        }\n",
              "        (() => {\n",
              "          let quickchartButtonEl =\n",
              "            document.querySelector('#df-668923c5-5e9f-49c6-b2c1-60157f86a903 button');\n",
              "          quickchartButtonEl.style.display =\n",
              "            google.colab.kernel.accessAllowed ? 'block' : 'none';\n",
              "        })();\n",
              "      </script>\n",
              "    </div>\n",
              "\n",
              "    </div>\n",
              "  </div>\n"
            ],
            "application/vnd.google.colaboratory.intrinsic+json": {
              "type": "dataframe",
              "variable_name": "data",
              "summary": "{\n  \"name\": \"data\",\n  \"rows\": 9578,\n  \"fields\": [\n    {\n      \"column\": \"credit.policy\",\n      \"properties\": {\n        \"dtype\": \"number\",\n        \"std\": 0,\n        \"min\": 0,\n        \"max\": 1,\n        \"num_unique_values\": 2,\n        \"samples\": [\n          0,\n          1\n        ],\n        \"semantic_type\": \"\",\n        \"description\": \"\"\n      }\n    },\n    {\n      \"column\": \"purpose\",\n      \"properties\": {\n        \"dtype\": \"category\",\n        \"num_unique_values\": 7,\n        \"samples\": [\n          \"debt_consolidation\",\n          \"credit_card\"\n        ],\n        \"semantic_type\": \"\",\n        \"description\": \"\"\n      }\n    },\n    {\n      \"column\": \"int.rate\",\n      \"properties\": {\n        \"dtype\": \"number\",\n        \"std\": 0.026846987213382724,\n        \"min\": 0.06,\n        \"max\": 0.2164,\n        \"num_unique_values\": 249,\n        \"samples\": [\n          0.1367,\n          0.1496\n        ],\n        \"semantic_type\": \"\",\n        \"description\": \"\"\n      }\n    },\n    {\n      \"column\": \"installment\",\n      \"properties\": {\n        \"dtype\": \"number\",\n        \"std\": 207.07130149985852,\n        \"min\": 15.67,\n        \"max\": 940.14,\n        \"num_unique_values\": 4788,\n        \"samples\": [\n          326.02,\n          182.39\n        ],\n        \"semantic_type\": \"\",\n        \"description\": \"\"\n      }\n    },\n    {\n      \"column\": \"log.annual.inc\",\n      \"properties\": {\n        \"dtype\": \"number\",\n        \"std\": 0.6148127513545946,\n        \"min\": 7.547501683,\n        \"max\": 14.52835448,\n        \"num_unique_values\": 1987,\n        \"samples\": [\n          10.22557105,\n          11.19908503\n        ],\n        \"semantic_type\": \"\",\n        \"description\": \"\"\n      }\n    },\n    {\n      \"column\": \"dti\",\n      \"properties\": {\n        \"dtype\": \"number\",\n        \"std\": 6.883969540539585,\n        \"min\": 0.0,\n        \"max\": 29.96,\n        \"num_unique_values\": 2529,\n        \"samples\": [\n          5.86,\n          21.4\n        ],\n        \"semantic_type\": \"\",\n        \"description\": \"\"\n      }\n    },\n    {\n      \"column\": \"fico\",\n      \"properties\": {\n        \"dtype\": \"number\",\n        \"std\": 37,\n        \"min\": 612,\n        \"max\": 827,\n        \"num_unique_values\": 44,\n        \"samples\": [\n          647,\n          717\n        ],\n        \"semantic_type\": \"\",\n        \"description\": \"\"\n      }\n    },\n    {\n      \"column\": \"days.with.cr.line\",\n      \"properties\": {\n        \"dtype\": \"number\",\n        \"std\": 2496.9303768113477,\n        \"min\": 178.9583333,\n        \"max\": 17639.95833,\n        \"num_unique_values\": 2687,\n        \"samples\": [\n          2432.0,\n          8669.958333\n        ],\n        \"semantic_type\": \"\",\n        \"description\": \"\"\n      }\n    },\n    {\n      \"column\": \"revol.bal\",\n      \"properties\": {\n        \"dtype\": \"number\",\n        \"std\": 33756,\n        \"min\": 0,\n        \"max\": 1207359,\n        \"num_unique_values\": 7869,\n        \"samples\": [\n          11196,\n          462\n        ],\n        \"semantic_type\": \"\",\n        \"description\": \"\"\n      }\n    },\n    {\n      \"column\": \"revol.util\",\n      \"properties\": {\n        \"dtype\": \"number\",\n        \"std\": 29.014416965641058,\n        \"min\": 0.0,\n        \"max\": 119.0,\n        \"num_unique_values\": 1035,\n        \"samples\": [\n          28.6,\n          1.7\n        ],\n        \"semantic_type\": \"\",\n        \"description\": \"\"\n      }\n    },\n    {\n      \"column\": \"inq.last.6mths\",\n      \"properties\": {\n        \"dtype\": \"number\",\n        \"std\": 2,\n        \"min\": 0,\n        \"max\": 33,\n        \"num_unique_values\": 28,\n        \"samples\": [\n          33,\n          24\n        ],\n        \"semantic_type\": \"\",\n        \"description\": \"\"\n      }\n    },\n    {\n      \"column\": \"delinq.2yrs\",\n      \"properties\": {\n        \"dtype\": \"number\",\n        \"std\": 0,\n        \"min\": 0,\n        \"max\": 13,\n        \"num_unique_values\": 11,\n        \"samples\": [\n          5,\n          0\n        ],\n        \"semantic_type\": \"\",\n        \"description\": \"\"\n      }\n    },\n    {\n      \"column\": \"pub.rec\",\n      \"properties\": {\n        \"dtype\": \"number\",\n        \"std\": 0,\n        \"min\": 0,\n        \"max\": 5,\n        \"num_unique_values\": 6,\n        \"samples\": [\n          0,\n          1\n        ],\n        \"semantic_type\": \"\",\n        \"description\": \"\"\n      }\n    },\n    {\n      \"column\": \"not.fully.paid\",\n      \"properties\": {\n        \"dtype\": \"number\",\n        \"std\": 0,\n        \"min\": 0,\n        \"max\": 1,\n        \"num_unique_values\": 2,\n        \"samples\": [\n          1,\n          0\n        ],\n        \"semantic_type\": \"\",\n        \"description\": \"\"\n      }\n    }\n  ]\n}"
            }
          },
          "metadata": {},
          "execution_count": 5
        }
      ],
      "source": [
        "data = pd.read_csv(\"./loan_data.csv\")\n",
        "data.head()"
      ],
      "id": "KBDUuZL-1xo0"
    },
    {
      "cell_type": "markdown",
      "metadata": {
        "id": "zRTC-eG71xo0"
      },
      "source": [
        "#### Select numerical columns only."
      ],
      "id": "zRTC-eG71xo0"
    },
    {
      "cell_type": "code",
      "execution_count": 6,
      "metadata": {
        "id": "nOPyZwOt1xo0",
        "outputId": "8b833ce7-91da-437c-cefa-c1072447bf7e",
        "colab": {
          "base_uri": "https://localhost:8080/"
        }
      },
      "outputs": [
        {
          "output_type": "stream",
          "name": "stdout",
          "text": [
            "Numerical columns : ['int.rate', 'installment', 'log.annual.inc', 'dti', 'fico', 'days.with.cr.line', 'revol.bal', 'revol.util', 'inq.last.6mths', 'delinq.2yrs', 'pub.rec', 'not.fully.paid']\n"
          ]
        }
      ],
      "source": [
        "cat_col = [col for col in data.columns if data[col].dtype == 'object']\n",
        "# Numerical columns\n",
        "num_col = [col for col in data.columns if data[col].dtype != 'object']\n",
        "#data.drop(['credit.policy'], axis=1)\n",
        "for x in ['credit.policy']:\n",
        "    num_col.remove(x)\n",
        "print('Numerical columns :',num_col)"
      ],
      "id": "nOPyZwOt1xo0"
    },
    {
      "cell_type": "markdown",
      "metadata": {
        "id": "Dvwa9R1H1xo0"
      },
      "source": [
        "####  Divide the data into training and test set"
      ],
      "id": "Dvwa9R1H1xo0"
    },
    {
      "cell_type": "code",
      "execution_count": 7,
      "metadata": {
        "id": "geQrgrIt1xo0",
        "outputId": "631daeb1-4bca-4453-f99d-3ed14592232e",
        "colab": {
          "base_uri": "https://localhost:8080/"
        }
      },
      "outputs": [
        {
          "output_type": "stream",
          "name": "stdout",
          "text": [
            "['int.rate', 'installment', 'log.annual.inc', 'dti', 'fico', 'days.with.cr.line', 'revol.bal', 'revol.util', 'inq.last.6mths', 'delinq.2yrs', 'pub.rec', 'not.fully.paid']\n",
            "      int.rate  installment  log.annual.inc    dti  fico  days.with.cr.line  \\\n",
            "0       0.1189       829.10       11.350407  19.48   737        5639.958333   \n",
            "1       0.1071       228.22       11.082143  14.29   707        2760.000000   \n",
            "2       0.1357       366.86       10.373491  11.63   682        4710.000000   \n",
            "3       0.1008       162.34       11.350407   8.10   712        2699.958333   \n",
            "4       0.1426       102.92       11.299732  14.97   667        4066.000000   \n",
            "...        ...          ...             ...    ...   ...                ...   \n",
            "9573    0.1461       344.76       12.180755  10.39   672       10474.000000   \n",
            "9574    0.1253       257.70       11.141862   0.21   722        4380.000000   \n",
            "9575    0.1071        97.81       10.596635  13.09   687        3450.041667   \n",
            "9576    0.1600       351.58       10.819778  19.18   692        1800.000000   \n",
            "9577    0.1392       853.43       11.264464  16.28   732        4740.000000   \n",
            "\n",
            "      revol.bal  revol.util  inq.last.6mths  delinq.2yrs  pub.rec  \\\n",
            "0         28854        52.1               0            0        0   \n",
            "1         33623        76.7               0            0        0   \n",
            "2          3511        25.6               1            0        0   \n",
            "3         33667        73.2               1            0        0   \n",
            "4          4740        39.5               0            1        0   \n",
            "...         ...         ...             ...          ...      ...   \n",
            "9573     215372        82.1               2            0        0   \n",
            "9574        184         1.1               5            0        0   \n",
            "9575      10036        82.9               8            0        0   \n",
            "9576          0         3.2               5            0        0   \n",
            "9577      37879        57.0               6            0        0   \n",
            "\n",
            "      not.fully.paid  \n",
            "0                  0  \n",
            "1                  0  \n",
            "2                  0  \n",
            "3                  0  \n",
            "4                  0  \n",
            "...              ...  \n",
            "9573               1  \n",
            "9574               1  \n",
            "9575               1  \n",
            "9576               1  \n",
            "9577               1  \n",
            "\n",
            "[9578 rows x 12 columns]\n"
          ]
        }
      ],
      "source": [
        "from sklearn import metrics\n",
        "\n",
        "from sklearn.model_selection import train_test_split\n",
        "print(num_col)\n",
        "X = data[num_col]\n",
        "print(X)\n",
        "y = data[\"not.fully.paid\"]\n",
        "X_train, X_test, y_train, y_test = train_test_split(X, y, test_size=0.2, random_state=4)"
      ],
      "id": "geQrgrIt1xo0"
    },
    {
      "cell_type": "markdown",
      "metadata": {
        "id": "fEJJMqCm1xo1"
      },
      "source": [
        "#### Check and verify the data"
      ],
      "id": "fEJJMqCm1xo1"
    },
    {
      "cell_type": "code",
      "execution_count": 8,
      "metadata": {
        "id": "BmdYMKLq1xo1",
        "outputId": "1650ee22-0e54-4efa-9982-f7288c157721",
        "colab": {
          "base_uri": "https://localhost:8080/"
        }
      },
      "outputs": [
        {
          "output_type": "stream",
          "name": "stdout",
          "text": [
            "Number of training examples: m_train = 7662\n",
            "Number of testing examples: m_test = 1916\n"
          ]
        }
      ],
      "source": [
        "m_train = X_train.shape[0]\n",
        "m_test = X_test.shape[0]\n",
        "print (\"Number of training examples: m_train = \" + str(m_train))\n",
        "print (\"Number of testing examples: m_test = \" + str(m_test))"
      ],
      "id": "BmdYMKLq1xo1"
    },
    {
      "cell_type": "markdown",
      "metadata": {
        "id": "cI2PxSmq1xo3"
      },
      "source": [
        "#### Convert the dataframe and series into numpy arrays"
      ],
      "id": "cI2PxSmq1xo3"
    },
    {
      "cell_type": "code",
      "execution_count": 9,
      "metadata": {
        "id": "uMK7FA_F1xo3"
      },
      "outputs": [],
      "source": [
        "train_set_x_orig = np.array(X_train)\n",
        "train_set_y_orig = np.array(y_train).reshape(1, -1) # Reshape y to be a row vector (1, m_train)\n",
        "\n",
        "test_set_x_orig = np.array(X_test)\n",
        "test_set_y_orig = np.array(y_test).reshape(1, -1) # Reshape y to be a row vector (1, m_test)"
      ],
      "id": "uMK7FA_F1xo3"
    },
    {
      "cell_type": "markdown",
      "metadata": {
        "id": "PI26STOK1xo3"
      },
      "source": [
        "#### This is necessary step for full course, We will feed each neuron as features into row wise format"
      ],
      "id": "PI26STOK1xo3"
    },
    {
      "cell_type": "code",
      "execution_count": 10,
      "metadata": {
        "id": "f4YcHskq1xo3",
        "outputId": "fb474243-749e-46f0-ae50-766343264773",
        "colab": {
          "base_uri": "https://localhost:8080/"
        }
      },
      "outputs": [
        {
          "output_type": "stream",
          "name": "stdout",
          "text": [
            "train_set_x_flatten shape: (12, 7662)\n",
            "train_set_y shape: (1, 7662)\n",
            "test_set_x_flatten shape: (12, 1916)\n",
            "test_set_y shape: (1, 1916)\n"
          ]
        }
      ],
      "source": [
        "# Reshape the training and test examples\n",
        "\n",
        "\n",
        "\n",
        "\n",
        "train_set_x_flatten = train_set_x_orig.T\n",
        "test_set_x_flatten = test_set_x_orig.T\n",
        "\n",
        "\n",
        "print (\"train_set_x_flatten shape: \" + str(train_set_x_flatten.shape))\n",
        "print (\"train_set_y shape: \" + str(train_set_y_orig.shape))\n",
        "print (\"test_set_x_flatten shape: \" + str(test_set_x_flatten.shape))\n",
        "print (\"test_set_y shape: \" + str(test_set_y_orig.shape))\n"
      ],
      "id": "f4YcHskq1xo3"
    },
    {
      "cell_type": "markdown",
      "metadata": {
        "id": "MyjGDATW1xo3"
      },
      "source": [
        "##  Building the parts of our algorithm ##\n",
        "\n",
        "The main steps for building a Neural Network are:\n",
        "1. Define the model structure (such as number of input features)\n",
        "2. Initialize the model's parameters\n",
        "3. Loop:\n",
        "    - Calculate current loss (forward propagation)\n",
        "    - Calculate current gradient (backward propagation)\n",
        "    - Update parameters (gradient descent)\n",
        "\n",
        "You often build 1-3 separately and integrate them into one function we call `model()`.\n",
        "\n",
        "###  - Helper functions\n",
        "\n",
        "**Exercise**: Using your code from \"Python Basics\", implement `sigmoid()`. As you've seen in the figure above, you need to compute $sigmoid( w^T x + b) = \\frac{1}{1 + e^{-(w^T x + b)}}$ to make predictions. Use np.exp().\n",
        "We are further cliping it to avoid going very low values"
      ],
      "id": "MyjGDATW1xo3"
    },
    {
      "cell_type": "code",
      "execution_count": 11,
      "metadata": {
        "id": "RhdYxGWV1xo4"
      },
      "outputs": [],
      "source": [
        "def sigmoid(z):\n",
        "    \"\"\"\n",
        "    Compute the sigmoid of z\n",
        "    \"\"\"\n",
        "\n",
        "    s = 1/(1+np.exp(-z))\n",
        "    epsilon = 1e-9\n",
        "    s = np.clip(s, epsilon, 1 - epsilon)\n",
        "\n",
        "    return s"
      ],
      "id": "RhdYxGWV1xo4"
    },
    {
      "cell_type": "markdown",
      "metadata": {
        "id": "R2ay1jd-1xo4"
      },
      "source": [
        "###  Initializing parameters\n",
        "\n",
        " Implement parameter initialization in the cell below. You have to initialize w as a vector of zeros."
      ],
      "id": "R2ay1jd-1xo4"
    },
    {
      "cell_type": "code",
      "execution_count": 12,
      "metadata": {
        "id": "yqPndN4X1xo4"
      },
      "outputs": [],
      "source": [
        "def initialize_with_zeros(dim):\n",
        "\n",
        "    w = np.zeros((dim,1))\n",
        "    b = 0\n",
        "\n",
        "    return w, b"
      ],
      "id": "yqPndN4X1xo4"
    },
    {
      "cell_type": "code",
      "execution_count": 13,
      "metadata": {
        "id": "2KbAkFi21xo4",
        "outputId": "a38715b5-6517-4ff5-bad2-a5616157a76f",
        "colab": {
          "base_uri": "https://localhost:8080/"
        }
      },
      "outputs": [
        {
          "output_type": "stream",
          "name": "stdout",
          "text": [
            "w = [[0.]\n",
            " [0.]]\n",
            "b = 0\n"
          ]
        }
      ],
      "source": [
        "dim = 2\n",
        "w, b = initialize_with_zeros(dim)\n",
        "print (\"w = \" + str(w))\n",
        "print (\"b = \" + str(b))"
      ],
      "id": "2KbAkFi21xo4"
    },
    {
      "cell_type": "markdown",
      "metadata": {
        "id": "wI9Y38DZ1xo5"
      },
      "source": [
        "### Forward and Backward propagation\n",
        "\n",
        "Now that your parameters are initialized, you can do the \"forward\" and \"backward\" propagation steps for learning the parameters.\n",
        "\n",
        "**Exercise:** Implement a function `propagate()` that computes the cost function and its gradient.\n",
        "\n",
        "**Hints**:\n",
        "\n",
        "Forward Propagation:\n",
        "- You get X\n",
        "- You compute $A = \\sigma(w^T X + b) = (a^{(1)}, a^{(2)}, ..., a^{(m-1)}, a^{(m)})$\n",
        "- You calculate the cost function: $J = -\\frac{1}{m}\\sum_{i=1}^{m}y^{(i)}\\log(a^{(i)})+(1-y^{(i)})\\log(1-a^{(i)})$\n",
        "\n",
        "Here are the two formulas you will be using:\n",
        "\n",
        "$$ \\frac{\\partial J}{\\partial w} = \\frac{1}{m}X(A-Y)^T\\tag{7}$$\n",
        "$$ \\frac{\\partial J}{\\partial b} = \\frac{1}{m} \\sum_{i=1}^m (a^{(i)}-y^{(i)})\\tag{8}$$"
      ],
      "id": "wI9Y38DZ1xo5"
    },
    {
      "cell_type": "code",
      "execution_count": 35,
      "metadata": {
        "id": "BHgYMb8o1xo5"
      },
      "outputs": [],
      "source": [
        "def propagate(weights, bias, inputs, expected_output):\n",
        "    \"\"\"\n",
        "    Implement the cost function and its gradient for the propagation explained above\n",
        "\n",
        "    \"\"\"\n",
        "\n",
        "    m = inputs.shape[1]\n",
        "    # FORWARD PROPAGATION (FROM X TO COST)\n",
        "    A = sigmoid(np.dot(weights.T,inputs) + bias)    # compute activation\n",
        "\n",
        "\n",
        "\n",
        "    cost = (-1/m)*np.sum(expected_output*np.log(A)+ (1-expected_output)*np.log(1-A)) # compute cost\n",
        "\n",
        "\n",
        "    # BACKWARD PROPAGATION (TO FIND GRAD)\n",
        "    #ye abhi khali formula se kri hai because with different activation function ye formula change hoga.\n",
        "\n",
        "    dw = np.dot(inputs, (A-expected_output).T)/m\n",
        "    db = (1/m) * np.sum(A-expected_output)\n",
        "\n",
        "\n",
        "    cost = np.squeeze(cost)\n",
        "\n",
        "    grads = {\"dw\": dw,\n",
        "\n",
        "             \"db\": db}\n",
        "\n",
        "    return grads, cost\n"
      ],
      "id": "BHgYMb8o1xo5"
    },
    {
      "cell_type": "markdown",
      "metadata": {
        "id": "Yic3clMs1xo5"
      },
      "source": [
        "#### For Testing above function"
      ],
      "id": "Yic3clMs1xo5"
    },
    {
      "cell_type": "code",
      "execution_count": 36,
      "metadata": {
        "id": "7XtH9Dme1xo5",
        "outputId": "c1fbad21-68d7-40ce-eda2-e77e57ccd8bb",
        "colab": {
          "base_uri": "https://localhost:8080/"
        }
      },
      "outputs": [
        {
          "output_type": "stream",
          "name": "stdout",
          "text": [
            "dw = [[0.99845601]\n",
            " [2.39507239]]\n",
            "db = 0.001455578136784208\n",
            "cost = 5.801545319394553\n"
          ]
        }
      ],
      "source": [
        "w, b, X, Y = np.array([[1.],[2.]]), 2., np.array([[1.,2.,-1.],[3.,4.,-3.2]]), np.array([[1,0,1]])\n",
        "grads, cost = propagate(w, b, X, Y)\n",
        "print (\"dw = \" + str(grads[\"dw\"]))\n",
        "print (\"db = \" + str(grads[\"db\"]))\n",
        "print (\"cost = \" + str(cost))\n",
        "#cost=propagate(w, b, X, Y)"
      ],
      "id": "7XtH9Dme1xo5"
    },
    {
      "cell_type": "markdown",
      "metadata": {
        "id": "A1aifO-S1xo6"
      },
      "source": [
        "### Optimization\n",
        "- You have initialized your parameters.\n",
        "- You are also able to compute a cost function and its gradient.\n",
        "- Now, you want to update the parameters using gradient descent.\n",
        "\n",
        "**Exercise:** Write down the optimization function. The goal is to learn $w$ and $b$ by minimizing the cost function $J$. For a parameter $\\theta$, the update rule is $ \\theta = \\theta - \\alpha \\text{ } d\\theta$, where $\\alpha$ is the learning rate."
      ],
      "id": "A1aifO-S1xo6"
    },
    {
      "cell_type": "code",
      "execution_count": 47,
      "metadata": {
        "id": "dS891uI71xo6"
      },
      "outputs": [],
      "source": [
        "\n",
        "def optimize(w, b, X, Y, num_iterations, learning_rate, print_cost = False):\n",
        "    \"\"\"\n",
        "    This function optimizes w and b by running a gradient descent algorithm\n",
        "\n",
        "   \"\"\"\n",
        "    costs = []\n",
        "\n",
        "    for i in range(num_iterations):\n",
        "\n",
        "\n",
        "        # Cost and gradient calculation (≈ 1-4 lines of code)\n",
        "\n",
        "        grads, cost = propagate(w,b,X,Y)\n",
        "\n",
        "\n",
        "        # Retrieve derivatives from grads\n",
        "        dw = grads[\"dw\"]\n",
        "        db = grads[\"db\"]\n",
        "\n",
        "        # update rule (≈ 2 lines of code)\n",
        "\n",
        "        w = w - learning_rate*dw\n",
        "        b = b - learning_rate*db\n",
        "\n",
        "\n",
        "        # Record the costs\n",
        "        if i % 100 == 0:\n",
        "          costs.append(cost)\n",
        "\n",
        "        # Print the cost every 100 training iterations\n",
        "        # if print_cost and i % 100 == 0:\n",
        "        #     print (\"Cost after iteration %i: %f\" %(i, cost))\n",
        "\n",
        "    params = {\"w\": w,\n",
        "              \"b\": b}\n",
        "\n",
        "    grads = {\"dw\": dw,\n",
        "             \"db\": db}\n",
        "\n",
        "    return params, grads, costs"
      ],
      "id": "dS891uI71xo6"
    },
    {
      "cell_type": "markdown",
      "metadata": {
        "id": "M75nJEXF1xo6"
      },
      "source": [
        "#### For Testing above Function"
      ],
      "id": "M75nJEXF1xo6"
    },
    {
      "cell_type": "code",
      "execution_count": 17,
      "metadata": {
        "id": "CHFR7FKk1xo6",
        "outputId": "72ec8bee-3fd8-4191-dffb-1dea1b00b783",
        "colab": {
          "base_uri": "https://localhost:8080/"
        }
      },
      "outputs": [
        {
          "output_type": "stream",
          "name": "stdout",
          "text": [
            "w = [[0.19033591]\n",
            " [0.12259159]]\n",
            "b = 1.9253598300845747\n",
            "dw = [[0.67752042]\n",
            " [1.41625495]]\n",
            "db = 0.21919450454067657\n"
          ]
        }
      ],
      "source": [
        "params, grads, costs = optimize(w, b, X, Y, num_iterations= 100, learning_rate = 0.009, print_cost = False)\n",
        "\n",
        "print (\"w = \" + str(params[\"w\"]))\n",
        "print (\"b = \" + str(params[\"b\"]))\n",
        "print (\"dw = \" + str(grads[\"dw\"]))\n",
        "print (\"db = \" + str(grads[\"db\"]))"
      ],
      "id": "CHFR7FKk1xo6"
    },
    {
      "cell_type": "markdown",
      "metadata": {
        "id": "1ok1nPzl1xo6"
      },
      "source": [
        "Previous function will output the learned w and b. We are able to use w and b to predict the labels for a dataset X. Implement the `predict()` function. There are two steps to computing predictions:\n",
        "\n",
        "1. Calculate $\\hat{Y} = A = \\sigma(w^T X + b)$\n",
        "\n",
        "2. Convert the entries of a into 0 (if activation <= 0.5) or 1 (if activation > 0.5), stores the predictions in a vector `Y_prediction`. If you wish, you can use an `if`/`else` statement in a `for` loop (though there is also a way to vectorize this)."
      ],
      "id": "1ok1nPzl1xo6"
    },
    {
      "cell_type": "code",
      "execution_count": 18,
      "metadata": {
        "id": "i3jH4EWk1xo7"
      },
      "outputs": [],
      "source": [
        "def predict(w, b, X):\n",
        "    '''\n",
        "    Predict whether the label is 0 or 1 using learned logistic regression parameters (w, b)\n",
        "\n",
        "    '''\n",
        "    m = X.shape[1]\n",
        "    Y_prediction = np.zeros((1,m))\n",
        "    w = w.reshape(X.shape[0], 1)\n",
        "\n",
        "    # Compute vector \"A\" predicting the probabilities of a cat being present in the picture\n",
        "\n",
        "    A = sigmoid(np.dot(w.T, X) +b)\n",
        "\n",
        "\n",
        "    for i in range(A.shape[1]):\n",
        "\n",
        "        # Convert probabilities A[0,i] to actual predictions p[0,i]\n",
        "\n",
        "        if A[0,i] <= 0.5:\n",
        "            Y_prediction[0,i]=0\n",
        "        else:\n",
        "            Y_prediction[0,i]=1\n",
        "\n",
        "    return Y_prediction"
      ],
      "id": "i3jH4EWk1xo7"
    },
    {
      "cell_type": "markdown",
      "metadata": {
        "id": "jUPXhKNf1xo7"
      },
      "source": [
        "#### For Testing"
      ],
      "id": "jUPXhKNf1xo7"
    },
    {
      "cell_type": "code",
      "execution_count": 19,
      "metadata": {
        "id": "cgA46zv71xo7",
        "outputId": "10d80dec-6477-4ec7-84f8-e5f586338974",
        "colab": {
          "base_uri": "https://localhost:8080/"
        }
      },
      "outputs": [
        {
          "output_type": "stream",
          "name": "stdout",
          "text": [
            "predictions = [[1. 1. 0.]]\n"
          ]
        }
      ],
      "source": [
        "w = np.array([[0.1124579],[0.23106775]])\n",
        "b = -0.3\n",
        "X = np.array([[1.,-1.1,-3.2],[1.2,2.,0.1]])\n",
        "print (\"predictions = \" + str(predict(w, b, X)))"
      ],
      "id": "cgA46zv71xo7"
    },
    {
      "cell_type": "markdown",
      "metadata": {
        "id": "wsmE1iQ01xo7"
      },
      "source": [
        "Merge all functions into a model ##\n",
        "\n",
        "You will now see how the overall model is structured by putting together all the building blocks (functions implemented in the previous parts) together, in the right order.\n"
      ],
      "id": "wsmE1iQ01xo7"
    },
    {
      "cell_type": "code",
      "execution_count": 70,
      "metadata": {
        "id": "feptodHy1xo7"
      },
      "outputs": [],
      "source": [
        "\n",
        "\n",
        "def model(X_train, Y_train, X_test, Y_test, num_iterations = 2000, learning_rate = 0.5, print_cost = False):\n",
        "    \"\"\"\n",
        "    Builds the logistic regression model by calling the function you've implemented previously\n",
        "\n",
        "    Arguments:\n",
        "    X_train -- training set represented by a numpy array of shape (num_px * num_px * 3, m_train)\n",
        "    Y_train -- training labels represented by a numpy array (vector) of shape (1, m_train)\n",
        "    X_test -- test set represented by a numpy array of shape (num_px * num_px * 3, m_test)\n",
        "    Y_test -- test labels represented by a numpy array (vector) of shape (1, m_test)\n",
        "    num_iterations -- hyperparameter representing the number of iterations to optimize the parameters\n",
        "    learning_rate -- hyperparameter representing the learning rate used in the update rule of optimize()\n",
        "    print_cost -- Set to true to print the cost every 100 iterations\n",
        "\n",
        "    Returns:\n",
        "    d -- dictionary containing information about the model.\n",
        "    \"\"\"\n",
        "\n",
        "\n",
        "\n",
        "    # initialize parameters with zeros (≈ 1 line of code)\n",
        "    dim=X_train.shape[0]\n",
        "    print(dim)\n",
        "    w,b = np.zeros((dim,1)), 0\n",
        "\n",
        "\n",
        "    # Gradient descent (≈ 1 line of code)\n",
        "    parameters, grads, costs = optimize(w, b, X_train, Y_train, num_iterations, learning_rate, print_cost)\n",
        "\n",
        "    # Retrieve parameters w and b from dictionary \"parameters\"\n",
        "    w = parameters[\"w\"]\n",
        "    b = parameters[\"b\"]\n",
        "\n",
        "    # Predict test/train set examples (≈ 2 lines of code)\n",
        "    Y_prediction_test = predict(w,b,X_test)\n",
        "    Y_prediction_train = predict(w,b,X_train)\n",
        "\n",
        "\n",
        "\n",
        "    # Print train/test Errors\n",
        "    print(\"train accuracy: {} %\".format(100 - np.mean(np.abs(Y_prediction_train - Y_train)) * 100))\n",
        "    print(\"test accuracy: {} %\".format(100 - np.mean(np.abs(Y_prediction_test - Y_test)) * 100))\n",
        "\n",
        "\n",
        "    d = {\"costs\": costs,\n",
        "         \"Y_prediction_test\": Y_prediction_test,\n",
        "         \"Y_prediction_train\" : Y_prediction_train,\n",
        "         \"Y_test\" : Y_test,\n",
        "         \"Y_train\" : Y_train,\n",
        "         \"w\" : w,\n",
        "         \"b\" : b,\n",
        "         \"learning_rate\" : learning_rate,\n",
        "         \"num_iterations\": num_iterations}\n",
        "\n",
        "    return d"
      ],
      "id": "feptodHy1xo7"
    },
    {
      "cell_type": "markdown",
      "metadata": {
        "id": "zlAs8eBQ1xo8"
      },
      "source": [
        "#### use the model"
      ],
      "id": "zlAs8eBQ1xo8"
    },
    {
      "cell_type": "code",
      "execution_count": 49,
      "metadata": {
        "id": "s0bpcWdf1xo8"
      },
      "outputs": [],
      "source": [
        "# d = model(train_set_x_flatten, train_set_y_orig, test_set_x_flatten, test_set_y_orig, num_iterations = 2000, learning_rate = 0.005, print_cost = True)"
      ],
      "id": "s0bpcWdf1xo8"
    },
    {
      "cell_type": "markdown",
      "metadata": {
        "id": "ikUUtcTn1xo8"
      },
      "source": [
        "#### Exercise : Plot learning curve"
      ],
      "id": "ikUUtcTn1xo8"
    },
    {
      "cell_type": "code",
      "execution_count": 55,
      "metadata": {
        "id": "tk0NBnH01xo8",
        "outputId": "7fc024b6-69f4-4ed7-e366-e73e282513c4",
        "colab": {
          "base_uri": "https://localhost:8080/",
          "height": 1000
        }
      },
      "outputs": [
        {
          "output_type": "stream",
          "name": "stdout",
          "text": [
            "12\n"
          ]
        },
        {
          "output_type": "stream",
          "name": "stderr",
          "text": [
            "/tmp/ipython-input-2225097485.py:6: RuntimeWarning: overflow encountered in exp\n",
            "  s = 1/(1+np.exp(-z))\n"
          ]
        },
        {
          "output_type": "stream",
          "name": "stdout",
          "text": [
            "train accuracy: 18.585225789611073 %\n",
            "test accuracy: 19.415448851774528 %\n"
          ]
        },
        {
          "output_type": "display_data",
          "data": {
            "text/plain": [
              "<Figure size 640x480 with 1 Axes>"
            ],
            "image/png": "[encoded data removed]"
          },
          "metadata": {}
        },
        {
          "output_type": "stream",
          "name": "stdout",
          "text": [
            "12\n",
            "train accuracy: 83.92064735056121 %\n",
            "test accuracy: 84.13361169102296 %\n"
          ]
        },
        {
          "output_type": "display_data",
          "data": {
            "text/plain": [
              "<Figure size 640x480 with 1 Axes>"
            ],
            "image/png": "[encoded data removed]"
          },
          "metadata": {}
        },
        {
          "output_type": "stream",
          "name": "stdout",
          "text": [
            "12\n",
            "train accuracy: 83.89454450535109 %\n",
            "test accuracy: 84.23799582463465 %\n"
          ]
        },
        {
          "output_type": "display_data",
          "data": {
            "text/plain": [
              "<Figure size 640x480 with 1 Axes>"
            ],
            "image/png": "[encoded data removed]"
          },
          "metadata": {}
        },
        {
          "output_type": "stream",
          "name": "stdout",
          "text": [
            "12\n",
            "train accuracy: 27.512398851474813 %\n",
            "test accuracy: 28.027139874739035 %\n"
          ]
        },
        {
          "output_type": "display_data",
          "data": {
            "text/plain": [
              "<Figure size 640x480 with 1 Axes>"
            ],
            "image/png": "[encoded data removed]"
          },
          "metadata": {}
        }
      ],
      "source": [
        "# def plot_costs(model_output, learning_rate=0.5):\n",
        "#     costs = model_output[\"costs\"]  # list of costs stored during training\n",
        "#     plt.plot(costs)                # plot costs over iterations\n",
        "#     plt.ylabel('cost')\n",
        "#     plt.xlabel('iterations')\n",
        "#     plt.title(\"Learning rate = \" + str(learning_rate))\n",
        "#     plt.show()\n",
        "\n",
        "def plot_costs(model_output, learning_rate=0.5):\n",
        "    costs = model_output[\"costs\"]  # list of costs stored during training\n",
        "    iterations = range(len(costs)) # x-axis: iteration numbers\n",
        "\n",
        "    # Scatter plot (points only, no connecting lines)\n",
        "    plt.scatter(iterations, costs, marker='o', color='red')\n",
        "\n",
        "    # Labels and title\n",
        "    plt.ylabel('Cost')\n",
        "    plt.xlabel('Iterations')\n",
        "    plt.title(f\"Learning rate = {learning_rate}\")\n",
        "    plt.grid(True, linestyle='--', alpha=0.6)  # optional grid for readability\n",
        "    plt.show()\n",
        "\n",
        "\n",
        "learn=0.0001\n",
        "d = model(train_set_x_flatten, train_set_y_orig, test_set_x_flatten, test_set_y_orig, num_iterations = 9000, learning_rate = learn, print_cost = True)\n",
        "plot_costs(d, learning_rate=learn)\n",
        "\n",
        "learn=0.001\n",
        "d = model(train_set_x_flatten, train_set_y_orig, test_set_x_flatten, test_set_y_orig, num_iterations = 9000, learning_rate = learn, print_cost = True)\n",
        "plot_costs(d, learning_rate=learn)\n",
        "\n",
        "learn=0.01\n",
        "d = model(train_set_x_flatten, train_set_y_orig, test_set_x_flatten, test_set_y_orig, num_iterations = 9000, learning_rate = learn, print_cost = True)\n",
        "plot_costs(d, learning_rate=learn)\n",
        "\n",
        "learn=0.5\n",
        "d = model(train_set_x_flatten, train_set_y_orig, test_set_x_flatten, test_set_y_orig, num_iterations = 9000, learning_rate = learn, print_cost = True)\n",
        "plot_costs(d, learning_rate=learn)"
      ],
      "id": "tk0NBnH01xo8"
    },
    {
      "cell_type": "code",
      "source": [
        "learning_rates=[]\n",
        "accuracies=[]\n",
        "rate=0.01\n",
        "for i in range(0,100):\n",
        "  d=model(train_set_x_flatten, train_set_y_orig, test_set_x_flatten, test_set_y_orig, num_iterations = 2000, learning_rate = rate, print_cost = False)\n",
        "  accuracies.append(100 - np.mean(np.abs(d['Y_prediction_test'] - d['Y_test'])) * 100)\n",
        "  learning_rates.append(rate)\n",
        "  rate+=0.01\n",
        "\n",
        "print(learning_rates)\n",
        "print(accuracies)\n",
        "plt.scatter(np.array(learning_rates), np.array(accuracies), marker='o', color='red')\n",
        "\n",
        "# Labels and title\n",
        "plt.xlabel('Learning Rates')\n",
        "plt.ylabel('Accuracies')\n",
        "plt.title(f\"Iterations = {2000}\")\n",
        "plt.grid(True, linestyle='--', alpha=0.6)\n",
        "plt.show()"
      ],
      "metadata": {
        "id": "FVNCGAZEP56v",
        "outputId": "324dae2b-4521-4975-d40c-8bd084af8ae3",
        "colab": {
          "base_uri": "https://localhost:8080/",
          "height": 1000
        }
      },
      "id": "FVNCGAZEP56v",
      "execution_count": 74,
      "outputs": [
        {
          "output_type": "stream",
          "name": "stdout",
          "text": [
            "12\n"
          ]
        },
        {
          "output_type": "stream",
          "name": "stderr",
          "text": [
            "/tmp/ipython-input-2225097485.py:6: RuntimeWarning: overflow encountered in exp\n",
            "  s = 1/(1+np.exp(-z))\n"
          ]
        },
        {
          "output_type": "stream",
          "name": "stdout",
          "text": [
            "train accuracy: 83.90759592795615 %\n",
            "test accuracy: 84.34237995824634 %\n",
            "12\n",
            "train accuracy: 83.90759592795615 %\n",
            "test accuracy: 84.34237995824634 %\n",
            "12\n",
            "train accuracy: 83.90759592795615 %\n",
            "test accuracy: 84.34237995824634 %\n",
            "12\n",
            "train accuracy: 83.92064735056121 %\n",
            "test accuracy: 84.34237995824634 %\n",
            "12\n",
            "train accuracy: 83.88149308274602 %\n",
            "test accuracy: 84.2901878914405 %\n",
            "12\n",
            "train accuracy: 16.196815452884366 %\n",
            "test accuracy: 15.762004175365334 %\n",
            "12\n",
            "train accuracy: 83.90759592795615 %\n",
            "test accuracy: 84.34237995824634 %\n",
            "12\n",
            "train accuracy: 83.92064735056121 %\n",
            "test accuracy: 84.34237995824634 %\n",
            "12\n",
            "train accuracy: 83.92064735056121 %\n",
            "test accuracy: 84.34237995824634 %\n",
            "12\n",
            "train accuracy: 83.90759592795615 %\n",
            "test accuracy: 84.34237995824634 %\n",
            "12\n",
            "train accuracy: 83.92064735056121 %\n",
            "test accuracy: 84.34237995824634 %\n",
            "12\n",
            "train accuracy: 83.92064735056121 %\n",
            "test accuracy: 84.34237995824634 %\n",
            "12\n",
            "train accuracy: 83.90759592795615 %\n",
            "test accuracy: 84.34237995824634 %\n",
            "12\n",
            "train accuracy: 18.585225789611073 %\n",
            "test accuracy: 19.31106471816284 %\n",
            "12\n",
            "train accuracy: 83.92064735056121 %\n",
            "test accuracy: 84.34237995824634 %\n",
            "12\n",
            "train accuracy: 35.06917253980684 %\n",
            "test accuracy: 35.281837160751564 %\n",
            "12\n",
            "train accuracy: 83.90759592795615 %\n",
            "test accuracy: 84.34237995824634 %\n",
            "12\n",
            "train accuracy: 83.90759592795615 %\n",
            "test accuracy: 84.34237995824634 %\n",
            "12\n",
            "train accuracy: 83.90759592795615 %\n",
            "test accuracy: 84.34237995824634 %\n",
            "12\n",
            "train accuracy: 83.90759592795615 %\n",
            "test accuracy: 84.34237995824634 %\n",
            "12\n",
            "train accuracy: 83.90759592795615 %\n",
            "test accuracy: 84.34237995824634 %\n",
            "12\n",
            "train accuracy: 83.90759592795615 %\n",
            "test accuracy: 84.34237995824634 %\n",
            "12\n",
            "train accuracy: 83.92064735056121 %\n",
            "test accuracy: 84.34237995824634 %\n",
            "12\n",
            "train accuracy: 83.92064735056121 %\n",
            "test accuracy: 84.34237995824634 %\n",
            "12\n",
            "train accuracy: 83.89454450535109 %\n",
            "test accuracy: 84.2901878914405 %\n",
            "12\n",
            "train accuracy: 34.31219002871313 %\n",
            "test accuracy: 34.55114822546973 %\n",
            "12\n",
            "train accuracy: 83.92064735056121 %\n",
            "test accuracy: 84.34237995824634 %\n",
            "12\n",
            "train accuracy: 83.90759592795615 %\n",
            "test accuracy: 84.34237995824634 %\n",
            "12\n",
            "train accuracy: 83.90759592795615 %\n",
            "test accuracy: 84.34237995824634 %\n",
            "12\n",
            "train accuracy: 83.90759592795615 %\n",
            "test accuracy: 84.34237995824634 %\n",
            "12\n",
            "train accuracy: 83.92064735056121 %\n",
            "test accuracy: 84.34237995824634 %\n",
            "12\n",
            "train accuracy: 83.89454450535109 %\n",
            "test accuracy: 84.34237995824634 %\n",
            "12\n",
            "train accuracy: 34.821195510310616 %\n",
            "test accuracy: 34.91649269311064 %\n",
            "12\n",
            "train accuracy: 83.88149308274602 %\n",
            "test accuracy: 84.2901878914405 %\n",
            "12\n",
            "train accuracy: 42.52153484729836 %\n",
            "test accuracy: 42.69311064718163 %\n",
            "12\n",
            "train accuracy: 83.90759592795615 %\n",
            "test accuracy: 84.34237995824634 %\n",
            "12\n",
            "train accuracy: 16.105455494648908 %\n",
            "test accuracy: 15.657620041753646 %\n",
            "12\n",
            "train accuracy: 83.90759592795615 %\n",
            "test accuracy: 84.34237995824634 %\n",
            "12\n",
            "train accuracy: 32.66771078047506 %\n",
            "test accuracy: 32.72442588726514 %\n",
            "12\n",
            "train accuracy: 83.90759592795615 %\n",
            "test accuracy: 84.34237995824634 %\n",
            "12\n",
            "train accuracy: 30.52727747324458 %\n",
            "test accuracy: 30.94989561586638 %\n",
            "12\n",
            "train accuracy: 83.25502479770296 %\n",
            "test accuracy: 83.92484342379959 %\n",
            "12\n",
            "train accuracy: 83.92064735056121 %\n",
            "test accuracy: 84.34237995824634 %\n",
            "12\n",
            "train accuracy: 83.92064735056121 %\n",
            "test accuracy: 84.34237995824634 %\n",
            "12\n",
            "train accuracy: 83.88149308274602 %\n",
            "test accuracy: 84.2901878914405 %\n",
            "12\n",
            "train accuracy: 42.27355781780214 %\n",
            "test accuracy: 42.69311064718163 %\n",
            "12\n",
            "train accuracy: 83.90759592795615 %\n",
            "test accuracy: 84.34237995824634 %\n",
            "12\n",
            "train accuracy: 83.92064735056121 %\n",
            "test accuracy: 84.34237995824634 %\n",
            "12\n",
            "train accuracy: 83.90759592795615 %\n",
            "test accuracy: 84.34237995824634 %\n",
            "12\n",
            "train accuracy: 83.90759592795615 %\n",
            "test accuracy: 84.34237995824634 %\n",
            "12\n",
            "train accuracy: 83.90759592795615 %\n",
            "test accuracy: 84.34237995824634 %\n",
            "12\n",
            "train accuracy: 83.90759592795615 %\n",
            "test accuracy: 84.34237995824634 %\n",
            "12\n",
            "train accuracy: 83.90759592795615 %\n",
            "test accuracy: 84.34237995824634 %\n",
            "12\n",
            "train accuracy: 83.90759592795615 %\n",
            "test accuracy: 84.34237995824634 %\n",
            "12\n",
            "train accuracy: 83.90759592795615 %\n",
            "test accuracy: 84.34237995824634 %\n",
            "12\n",
            "train accuracy: 83.90759592795615 %\n",
            "test accuracy: 84.34237995824634 %\n",
            "12\n",
            "train accuracy: 83.90759592795615 %\n",
            "test accuracy: 84.34237995824634 %\n",
            "12\n",
            "train accuracy: 83.90759592795615 %\n",
            "test accuracy: 84.34237995824634 %\n",
            "12\n",
            "train accuracy: 83.90759592795615 %\n",
            "test accuracy: 84.34237995824634 %\n",
            "12\n",
            "train accuracy: 83.90759592795615 %\n",
            "test accuracy: 84.34237995824634 %\n",
            "12\n",
            "train accuracy: 83.90759592795615 %\n",
            "test accuracy: 84.34237995824634 %\n",
            "12\n",
            "train accuracy: 83.90759592795615 %\n",
            "test accuracy: 84.34237995824634 %\n",
            "12\n",
            "train accuracy: 83.92064735056121 %\n",
            "test accuracy: 84.34237995824634 %\n",
            "12\n",
            "train accuracy: 83.90759592795615 %\n",
            "test accuracy: 84.34237995824634 %\n",
            "12\n",
            "train accuracy: 83.90759592795615 %\n",
            "test accuracy: 84.34237995824634 %\n",
            "12\n",
            "train accuracy: 83.90759592795615 %\n",
            "test accuracy: 84.34237995824634 %\n",
            "12\n",
            "train accuracy: 16.966849386583135 %\n",
            "test accuracy: 16.858037578288105 %\n",
            "12\n",
            "train accuracy: 83.90759592795615 %\n",
            "test accuracy: 84.34237995824634 %\n",
            "12\n",
            "train accuracy: 83.90759592795615 %\n",
            "test accuracy: 84.34237995824634 %\n",
            "12\n",
            "train accuracy: 35.160532498042286 %\n",
            "test accuracy: 35.33402922755741 %\n",
            "12\n",
            "train accuracy: 83.90759592795615 %\n",
            "test accuracy: 84.34237995824634 %\n",
            "12\n",
            "train accuracy: 83.90759592795615 %\n",
            "test accuracy: 84.34237995824634 %\n",
            "12\n",
            "train accuracy: 37.52283998955887 %\n",
            "test accuracy: 35.75156576200418 %\n",
            "12\n",
            "train accuracy: 83.92064735056121 %\n",
            "test accuracy: 84.34237995824634 %\n",
            "12\n",
            "train accuracy: 83.90759592795615 %\n",
            "test accuracy: 84.34237995824634 %\n",
            "12\n",
            "train accuracy: 83.90759592795615 %\n",
            "test accuracy: 84.34237995824634 %\n",
            "12\n",
            "train accuracy: 33.86844166014096 %\n",
            "test accuracy: 34.44676409185804 %\n",
            "12\n",
            "train accuracy: 83.92064735056121 %\n",
            "test accuracy: 84.34237995824634 %\n",
            "12\n",
            "train accuracy: 34.84729835552075 %\n",
            "test accuracy: 34.81210855949895 %\n",
            "12\n",
            "train accuracy: 83.90759592795615 %\n",
            "test accuracy: 84.34237995824634 %\n",
            "12\n",
            "train accuracy: 16.07935264943879 %\n",
            "test accuracy: 15.657620041753646 %\n",
            "12\n",
            "train accuracy: 83.92064735056121 %\n",
            "test accuracy: 84.34237995824634 %\n",
            "12\n",
            "train accuracy: 83.90759592795615 %\n",
            "test accuracy: 84.34237995824634 %\n",
            "12\n",
            "train accuracy: 16.105455494648908 %\n",
            "test accuracy: 15.657620041753646 %\n",
            "12\n",
            "train accuracy: 83.92064735056121 %\n",
            "test accuracy: 84.34237995824634 %\n",
            "12\n",
            "train accuracy: 83.92064735056121 %\n",
            "test accuracy: 84.34237995824634 %\n",
            "12\n",
            "train accuracy: 83.92064735056121 %\n",
            "test accuracy: 84.34237995824634 %\n",
            "12\n",
            "train accuracy: 83.90759592795615 %\n",
            "test accuracy: 84.34237995824634 %\n",
            "12\n",
            "train accuracy: 83.90759592795615 %\n",
            "test accuracy: 84.34237995824634 %\n",
            "12\n",
            "train accuracy: 83.90759592795615 %\n",
            "test accuracy: 84.34237995824634 %\n",
            "12\n",
            "train accuracy: 83.90759592795615 %\n",
            "test accuracy: 84.34237995824634 %\n",
            "12\n",
            "train accuracy: 83.90759592795615 %\n",
            "test accuracy: 84.34237995824634 %\n",
            "12\n",
            "train accuracy: 33.855390237535886 %\n",
            "test accuracy: 34.18580375782881 %\n",
            "12\n",
            "train accuracy: 83.89454450535109 %\n",
            "test accuracy: 84.2901878914405 %\n",
            "12\n",
            "train accuracy: 83.92064735056121 %\n",
            "test accuracy: 84.34237995824634 %\n",
            "12\n",
            "train accuracy: 83.92064735056121 %\n",
            "test accuracy: 84.34237995824634 %\n",
            "12\n",
            "train accuracy: 83.90759592795615 %\n",
            "test accuracy: 84.34237995824634 %\n",
            "12\n",
            "train accuracy: 83.86844166014096 %\n",
            "test accuracy: 84.2901878914405 %\n",
            "12\n",
            "train accuracy: 83.90759592795615 %\n",
            "test accuracy: 84.34237995824634 %\n",
            "12\n",
            "train accuracy: 83.92064735056121 %\n",
            "test accuracy: 84.34237995824634 %\n",
            "[0.01, 0.02, 0.03, 0.04, 0.05, 0.060000000000000005, 0.07, 0.08, 0.09, 0.09999999999999999, 0.10999999999999999, 0.11999999999999998, 0.12999999999999998, 0.13999999999999999, 0.15, 0.16, 0.17, 0.18000000000000002, 0.19000000000000003, 0.20000000000000004, 0.21000000000000005, 0.22000000000000006, 0.23000000000000007, 0.24000000000000007, 0.25000000000000006, 0.26000000000000006, 0.2700000000000001, 0.2800000000000001, 0.2900000000000001, 0.3000000000000001, 0.3100000000000001, 0.3200000000000001, 0.3300000000000001, 0.34000000000000014, 0.35000000000000014, 0.36000000000000015, 0.37000000000000016, 0.38000000000000017, 0.3900000000000002, 0.4000000000000002, 0.4100000000000002, 0.4200000000000002, 0.4300000000000002, 0.4400000000000002, 0.45000000000000023, 0.46000000000000024, 0.47000000000000025, 0.48000000000000026, 0.49000000000000027, 0.5000000000000002, 0.5100000000000002, 0.5200000000000002, 0.5300000000000002, 0.5400000000000003, 0.5500000000000003, 0.5600000000000003, 0.5700000000000003, 0.5800000000000003, 0.5900000000000003, 0.6000000000000003, 0.6100000000000003, 0.6200000000000003, 0.6300000000000003, 0.6400000000000003, 0.6500000000000004, 0.6600000000000004, 0.6700000000000004, 0.6800000000000004, 0.6900000000000004, 0.7000000000000004, 0.7100000000000004, 0.7200000000000004, 0.7300000000000004, 0.7400000000000004, 0.7500000000000004, 0.7600000000000005, 0.7700000000000005, 0.7800000000000005, 0.7900000000000005, 0.8000000000000005, 0.8100000000000005, 0.8200000000000005, 0.8300000000000005, 0.8400000000000005, 0.8500000000000005, 0.8600000000000005, 0.8700000000000006, 0.8800000000000006, 0.8900000000000006, 0.9000000000000006, 0.9100000000000006, 0.9200000000000006, 0.9300000000000006, 0.9400000000000006, 0.9500000000000006, 0.9600000000000006, 0.9700000000000006, 0.9800000000000006, 0.9900000000000007, 1.0000000000000007]\n",
            "[np.float64(84.34237995824634), np.float64(84.34237995824634), np.float64(84.34237995824634), np.float64(84.34237995824634), np.float64(84.2901878914405), np.float64(15.762004175365334), np.float64(84.34237995824634), np.float64(84.34237995824634), np.float64(84.34237995824634), np.float64(84.34237995824634), np.float64(84.34237995824634), np.float64(84.34237995824634), np.float64(84.34237995824634), np.float64(19.31106471816284), np.float64(84.34237995824634), np.float64(35.281837160751564), np.float64(84.34237995824634), np.float64(84.34237995824634), np.float64(84.34237995824634), np.float64(84.34237995824634), np.float64(84.34237995824634), np.float64(84.34237995824634), np.float64(84.34237995824634), np.float64(84.34237995824634), np.float64(84.2901878914405), np.float64(34.55114822546973), np.float64(84.34237995824634), np.float64(84.34237995824634), np.float64(84.34237995824634), np.float64(84.34237995824634), np.float64(84.34237995824634), np.float64(84.34237995824634), np.float64(34.91649269311064), np.float64(84.2901878914405), np.float64(42.69311064718163), np.float64(84.34237995824634), np.float64(15.657620041753646), np.float64(84.34237995824634), np.float64(32.72442588726514), np.float64(84.34237995824634), np.float64(30.94989561586638), np.float64(83.92484342379959), np.float64(84.34237995824634), np.float64(84.34237995824634), np.float64(84.2901878914405), np.float64(42.69311064718163), np.float64(84.34237995824634), np.float64(84.34237995824634), np.float64(84.34237995824634), np.float64(84.34237995824634), np.float64(84.34237995824634), np.float64(84.34237995824634), np.float64(84.34237995824634), np.float64(84.34237995824634), np.float64(84.34237995824634), np.float64(84.34237995824634), np.float64(84.34237995824634), np.float64(84.34237995824634), np.float64(84.34237995824634), np.float64(84.34237995824634), np.float64(84.34237995824634), np.float64(84.34237995824634), np.float64(84.34237995824634), np.float64(84.34237995824634), np.float64(84.34237995824634), np.float64(84.34237995824634), np.float64(16.858037578288105), np.float64(84.34237995824634), np.float64(84.34237995824634), np.float64(35.33402922755741), np.float64(84.34237995824634), np.float64(84.34237995824634), np.float64(35.75156576200418), np.float64(84.34237995824634), np.float64(84.34237995824634), np.float64(84.34237995824634), np.float64(34.44676409185804), np.float64(84.34237995824634), np.float64(34.81210855949895), np.float64(84.34237995824634), np.float64(15.657620041753646), np.float64(84.34237995824634), np.float64(84.34237995824634), np.float64(15.657620041753646), np.float64(84.34237995824634), np.float64(84.34237995824634), np.float64(84.34237995824634), np.float64(84.34237995824634), np.float64(84.34237995824634), np.float64(84.34237995824634), np.float64(84.34237995824634), np.float64(84.34237995824634), np.float64(34.18580375782881), np.float64(84.2901878914405), np.float64(84.34237995824634), np.float64(84.34237995824634), np.float64(84.34237995824634), np.float64(84.2901878914405), np.float64(84.34237995824634), np.float64(84.34237995824634)]\n"
          ]
        },
        {
          "output_type": "display_data",
          "data": {
            "text/plain": [
              "<Figure size 640x480 with 1 Axes>"
            ],
            "image/png": "[encoded data removed]"
          },
          "metadata": {}
        }
      ]
    }
  ],
  "metadata": {
    "kernelspec": {
      "display_name": "(Lab) Neural Networks",
      "language": "python",
      "name": "python3"
    },
    "language_info": {
      "codemirror_mode": {
        "name": "ipython",
        "version": 3
      },
      "file_extension": ".py",
      "mimetype": "text/x-python",
      "name": "python",
      "nbconvert_exporter": "python",
      "pygments_lexer": "ipython3",
      "version": "3.12.2"
    },
    "colab": {
      "provenance": []
    }
  },
  "nbformat": 4,
  "nbformat_minor": 5
}